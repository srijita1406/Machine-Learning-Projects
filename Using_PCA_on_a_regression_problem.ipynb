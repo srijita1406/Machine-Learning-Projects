{
  "nbformat": 4,
  "nbformat_minor": 0,
  "metadata": {
    "colab": {
      "provenance": [],
      "include_colab_link": true
    },
    "kernelspec": {
      "name": "python3",
      "display_name": "Python 3"
    },
    "language_info": {
      "name": "python"
    }
  },
  "cells": [
    {
      "cell_type": "markdown",
      "metadata": {
        "id": "view-in-github",
        "colab_type": "text"
      },
      "source": [
        "<a href=\"https://colab.research.google.com/github/srijita1406/Machine-Learning-Projects/blob/main/Using_PCA_on_a_regression_problem.ipynb\" target=\"_parent\"><img src=\"https://colab.research.google.com/assets/colab-badge.svg\" alt=\"Open In Colab\"/></a>"
      ]
    },
    {
      "cell_type": "markdown",
      "source": [
        "### Q. 1:"
      ],
      "metadata": {
        "id": "DkbTpcHnnbCp"
      }
    },
    {
      "cell_type": "code",
      "execution_count": null,
      "metadata": {
        "id": "QbDEMsbwy2_H",
        "colab": {
          "base_uri": "https://localhost:8080/"
        },
        "outputId": "6fcd9760-2465-4b28-ff2f-880e6c5971d2"
      },
      "outputs": [
        {
          "output_type": "execute_result",
          "data": {
            "text/plain": [
              "(6257, 11)"
            ]
          },
          "metadata": {},
          "execution_count": 1
        }
      ],
      "source": [
        "import pandas as pd\n",
        "import numpy as np\n",
        "\n",
        "data=pd.read_csv('/content/V5.csv')\n",
        "\n",
        "X=data.drop(['cltv'],axis=1)\n",
        "y=data['cltv']\n",
        "\n",
        "X.shape\n"
      ]
    },
    {
      "cell_type": "markdown",
      "source": [
        "### Q. 2:\n",
        "How many total number of features (excluding target variable) are there in the dataset?"
      ],
      "metadata": {
        "id": "Uw1RexjSnhJK"
      }
    },
    {
      "cell_type": "code",
      "execution_count": null,
      "metadata": {
        "id": "2FfA0k2KnhJL",
        "colab": {
          "base_uri": "https://localhost:8080/"
        },
        "outputId": "5f9c668b-428d-42c8-a0a4-0fe95d2a36be"
      },
      "outputs": [
        {
          "output_type": "execute_result",
          "data": {
            "text/plain": [
              "(6257, 11)"
            ]
          },
          "metadata": {},
          "execution_count": 2
        }
      ],
      "source": [
        "X.shape\n"
      ]
    },
    {
      "cell_type": "markdown",
      "source": [
        "### Q. 3:\n",
        "What are the unique values of feature `Types of Policy` in the dataset?\n"
      ],
      "metadata": {
        "id": "koQSKlS2nhsW"
      }
    },
    {
      "cell_type": "code",
      "execution_count": null,
      "metadata": {
        "id": "kbGlvaHxnhsX",
        "colab": {
          "base_uri": "https://localhost:8080/"
        },
        "outputId": "bcc8ff48-3c7c-4423-b56f-5252ec2f9dbe"
      },
      "outputs": [
        {
          "output_type": "execute_result",
          "data": {
            "text/plain": [
              "Platinum    3329\n",
              "Silver      1470\n",
              "Gold        1458\n",
              "Name: type_of_policy, dtype: int64"
            ]
          },
          "metadata": {},
          "execution_count": 3
        }
      ],
      "source": [
        "X['type_of_policy'].value_counts()\n"
      ]
    },
    {
      "cell_type": "markdown",
      "source": [
        "### Q. 4:\n",
        "Which of the following columns have categorical data?"
      ],
      "metadata": {
        "id": "AHyTZdvLnh14"
      }
    },
    {
      "cell_type": "code",
      "execution_count": null,
      "metadata": {
        "id": "J2F4KP8Xnh15",
        "colab": {
          "base_uri": "https://localhost:8080/"
        },
        "outputId": "387c2443-0a5c-43ed-d030-eed6f3a12708"
      },
      "outputs": [
        {
          "output_type": "stream",
          "name": "stdout",
          "text": [
            "<class 'pandas.core.frame.DataFrame'>\n",
            "RangeIndex: 6257 entries, 0 to 6256\n",
            "Data columns (total 11 columns):\n",
            " #   Column          Non-Null Count  Dtype  \n",
            "---  ------          --------------  -----  \n",
            " 0   id              6257 non-null   int64  \n",
            " 1   gender          6257 non-null   object \n",
            " 2   area            5869 non-null   object \n",
            " 3   qualification   6257 non-null   object \n",
            " 4   income          5881 non-null   float64\n",
            " 5   marital_status  6257 non-null   int64  \n",
            " 6   vintage         6257 non-null   int64  \n",
            " 7   claim_amount    5871 non-null   float64\n",
            " 8   num_policies    6257 non-null   object \n",
            " 9   policy          5864 non-null   object \n",
            " 10  type_of_policy  6257 non-null   object \n",
            "dtypes: float64(2), int64(3), object(6)\n",
            "memory usage: 537.8+ KB\n"
          ]
        }
      ],
      "source": [
        "X.info()\n"
      ]
    },
    {
      "cell_type": "markdown",
      "source": [
        "### Q. 5:\n",
        "Plot the `heatmap` and mark the pair which has the highest positive correlation value"
      ],
      "metadata": {
        "id": "aHvMKZRKnh-N"
      }
    },
    {
      "cell_type": "code",
      "execution_count": null,
      "metadata": {
        "id": "rHp9EoVUnh-O",
        "colab": {
          "base_uri": "https://localhost:8080/",
          "height": 331
        },
        "outputId": "7ec9a5ce-a699-4824-8d2d-22a41f63a540"
      },
      "outputs": [
        {
          "output_type": "display_data",
          "data": {
            "text/plain": [
              "<Figure size 432x288 with 2 Axes>"
            ],
            "image/png": "[encoded data removed]"
          },
          "metadata": {
            "needs_background": "light"
          }
        }
      ],
      "source": [
        "import seaborn as sns\n",
        "sns.heatmap(data.corr(),annot=True);"
      ]
    },
    {
      "cell_type": "markdown",
      "source": [
        "### Q. 6:\n",
        "\n",
        "Which of the following features have `missing` values?\n",
        "\n"
      ],
      "metadata": {
        "id": "wakf2BDAniYB"
      }
    },
    {
      "cell_type": "code",
      "execution_count": null,
      "metadata": {
        "id": "MZdT3ZH1niYC",
        "colab": {
          "base_uri": "https://localhost:8080/"
        },
        "outputId": "2b7f76c7-0965-485a-df86-5022d443f6a2"
      },
      "outputs": [
        {
          "output_type": "execute_result",
          "data": {
            "text/plain": [
              "id                  0\n",
              "gender              0\n",
              "area              388\n",
              "qualification       0\n",
              "income            376\n",
              "marital_status      0\n",
              "vintage             0\n",
              "claim_amount      386\n",
              "num_policies        0\n",
              "policy            393\n",
              "type_of_policy      0\n",
              "dtype: int64"
            ]
          },
          "metadata": {},
          "execution_count": 6
        }
      ],
      "source": [
        "X.isnull().sum()"
      ]
    },
    {
      "cell_type": "markdown",
      "source": [
        "### Q. 7:\n",
        "Break the dataset into features(`X`) and label (`y`), where the column `cltv` goes to `y` and the rest of the columns go to `X`. Enter the avg value of `cltv` column?"
      ],
      "metadata": {
        "id": "aU_rpC49nihO"
      }
    },
    {
      "cell_type": "code",
      "execution_count": null,
      "metadata": {
        "id": "hyYzgH1unihP",
        "colab": {
          "base_uri": "https://localhost:8080/"
        },
        "outputId": "a08e51a4-4749-4ba8-a264-6fc32932a9ca"
      },
      "outputs": [
        {
          "output_type": "stream",
          "name": "stdout",
          "text": [
            "99423.4329550903\n"
          ]
        }
      ],
      "source": [
        "# already divide data into X and y\n",
        "\n",
        "print(y.mean())"
      ]
    },
    {
      "cell_type": "markdown",
      "source": [
        "### Q. 8:\n",
        "Split the dataset into training and test dataset using `train_test_split` into `70:30` ratio while keeping random_state =42. What is the shape of the training set (X_train)"
      ],
      "metadata": {
        "id": "6G8XIh3Zniox"
      }
    },
    {
      "cell_type": "code",
      "execution_count": null,
      "metadata": {
        "id": "6q6lSNOKniox",
        "colab": {
          "base_uri": "https://localhost:8080/"
        },
        "outputId": "badddf62-8aee-4807-81f0-18888ebca3a9"
      },
      "outputs": [
        {
          "output_type": "execute_result",
          "data": {
            "text/plain": [
              "(4379, 11)"
            ]
          },
          "metadata": {},
          "execution_count": 8
        }
      ],
      "source": [
        "from sklearn.model_selection import train_test_split\n",
        "\n",
        "X_train, X_test, y_train, y_test = train_test_split(X, y, test_size=0.3, random_state=42)\n",
        "\n",
        "X_train.shape"
      ]
    },
    {
      "cell_type": "markdown",
      "source": [
        "### Q. 9:\n",
        "Drop(remove) `id` column from train and test data because not useful in model training. Now how many feature columns are remaining in training dataset?"
      ],
      "metadata": {
        "id": "Ya6hm0XGniwB"
      }
    },
    {
      "cell_type": "code",
      "execution_count": null,
      "metadata": {
        "id": "awg8ffpTniwB",
        "colab": {
          "base_uri": "https://localhost:8080/"
        },
        "outputId": "0c2cd979-fb59-40de-c5d4-9cd975e45d62"
      },
      "outputs": [
        {
          "output_type": "execute_result",
          "data": {
            "text/plain": [
              "(4379, 10)"
            ]
          },
          "metadata": {},
          "execution_count": 9
        }
      ],
      "source": [
        "X_train=X_train.drop(['id'],axis=True)\n",
        "X_test=X_test.drop(['id'],axis=True)\n",
        "\n",
        "X_train.shape"
      ]
    },
    {
      "cell_type": "markdown",
      "source": [
        "### Q. 10:\n",
        "\n",
        "Compute and write median of `income` column of X_train while ignoring the missing values. Replace all NaN values in income column of X_train and X_test by the median computed in X_train (upto two decimal)."
      ],
      "metadata": {
        "id": "LFc8n8FIni3E"
      }
    },
    {
      "cell_type": "code",
      "execution_count": null,
      "metadata": {
        "id": "Bci76g7Qni3F",
        "colab": {
          "base_uri": "https://localhost:8080/"
        },
        "outputId": "eeb7f5bb-7f09-453f-bf19-f98b2c173589"
      },
      "outputs": [
        {
          "output_type": "stream",
          "name": "stdout",
          "text": [
            "6.89\n"
          ]
        }
      ],
      "source": [
        "med=X_train['income'].median()\n",
        "X_train['income']=X_train['income'].fillna(med)\n",
        "X_test['income']=X_test['income'].fillna(med)\n",
        "print(med)"
      ]
    },
    {
      "cell_type": "markdown",
      "source": [
        "### Q. 11:\n",
        "Which is the most frequent value in `policy` column of X_train? Replace all NaN value in `policy` column of X_train and X_test by most frequent value in X_train"
      ],
      "metadata": {
        "id": "x7HT3SDqni9t"
      }
    },
    {
      "cell_type": "code",
      "execution_count": null,
      "metadata": {
        "id": "SZVSXKi_ni9u",
        "colab": {
          "base_uri": "https://localhost:8080/"
        },
        "outputId": "92621dea-7ca3-4aa3-aec7-c28ee4c6e4e2"
      },
      "outputs": [
        {
          "output_type": "stream",
          "name": "stdout",
          "text": [
            "A\n"
          ]
        }
      ],
      "source": [
        "most_frequent_policy = X_train['policy'].value_counts().idxmax()\n",
        "X_train['policy'] = X_train['policy'].fillna(most_frequent_policy)\n",
        "X_test['policy'] = X_test['policy'].fillna(most_frequent_policy)\n",
        "print(most_frequent_policy)"
      ]
    },
    {
      "cell_type": "markdown",
      "source": [
        "### Q. 12:\n",
        "Which is the most frequent value in `area` column of X_train? Replace all NaN value in `area` column of X_train and X_test by most frequent value X_train"
      ],
      "metadata": {
        "id": "jRjM0rXdnjFg"
      }
    },
    {
      "cell_type": "code",
      "execution_count": null,
      "metadata": {
        "id": "jyO_KmCCnjFh",
        "colab": {
          "base_uri": "https://localhost:8080/"
        },
        "outputId": "b270b92a-632e-4d6a-97b6-f6f6751868e1"
      },
      "outputs": [
        {
          "output_type": "stream",
          "name": "stdout",
          "text": [
            "Urban\n"
          ]
        }
      ],
      "source": [
        "most_frequent_area = X_train['area'].value_counts().idxmax()\n",
        "X_train['area'] = X_train['area'].fillna(most_frequent_area)\n",
        "X_test['area'] = X_test['area'].fillna(most_frequent_area)\n",
        "print(most_frequent_area)"
      ]
    },
    {
      "cell_type": "markdown",
      "source": [
        "### Q. 13:\n",
        "Replace all NaN value in claim_amount column of X_train and X_test by 0 (Zero). After Replacing NAN values from claim_amount column what is the standard deviation of claim_amount column in X_train. (correct upto two decimal places)\n",
        "\n"
      ],
      "metadata": {
        "id": "DstfuzPRnjOB"
      }
    },
    {
      "cell_type": "code",
      "execution_count": null,
      "metadata": {
        "id": "L4CRzjjanjOC",
        "colab": {
          "base_uri": "https://localhost:8080/"
        },
        "outputId": "2ef6f956-baa0-4e00-a270-615060f54c54"
      },
      "outputs": [
        {
          "output_type": "stream",
          "name": "stdout",
          "text": [
            "3330.754550847971\n"
          ]
        }
      ],
      "source": [
        "X_train['claim_amount'] = X_train['claim_amount'].fillna(0)\n",
        "X_test['claim_amount'] = X_test['claim_amount'].fillna(0)\n",
        "std_claim_amount = X_train['claim_amount'].std()\n",
        "print(std_claim_amount)"
      ]
    },
    {
      "cell_type": "markdown",
      "source": [
        "### Q. 14:\n",
        "Apply `MinMaxScaler` on `income` column of X_train. Compute and write median of `income` column? (correct Upto 2 decimal)"
      ],
      "metadata": {
        "id": "MzU5TSmInjVX"
      }
    },
    {
      "cell_type": "code",
      "execution_count": null,
      "metadata": {
        "id": "0PUIl7b1njVX",
        "colab": {
          "base_uri": "https://localhost:8080/"
        },
        "outputId": "38c13db3-8640-4bf7-a98f-4feaf819aa4c"
      },
      "outputs": [
        {
          "output_type": "stream",
          "name": "stdout",
          "text": [
            "0.06887576333967364\n"
          ]
        }
      ],
      "source": [
        "from sklearn.preprocessing import MinMaxScaler\n",
        "new_X_train=X_train\n",
        "scaler = MinMaxScaler()\n",
        "new_X_train['income'] = scaler.fit_transform(new_X_train[['income']])\n",
        "median_income = new_X_train['income'].median()\n",
        "print(median_income)"
      ]
    },
    {
      "cell_type": "markdown",
      "source": [
        "### Q. 15:\n",
        "Apply preprocessing on features of X_train and X_test dataset.\n",
        "\n",
        "\n",
        "How many features will you get after preprocessing?"
      ],
      "metadata": {
        "id": "opKcFBPnnjet"
      }
    },
    {
      "cell_type": "code",
      "execution_count": null,
      "metadata": {
        "id": "BtjE6iUgnjet",
        "colab": {
          "base_uri": "https://localhost:8080/"
        },
        "outputId": "5cdd7fd7-e1a3-4099-e571-49b40f7ab21f"
      },
      "outputs": [
        {
          "output_type": "stream",
          "name": "stdout",
          "text": [
            "(4379, 20)\n",
            "(1878, 20)\n"
          ]
        },
        {
          "output_type": "stream",
          "name": "stderr",
          "text": [
            "/usr/local/lib/python3.9/dist-packages/sklearn/preprocessing/_encoders.py:828: FutureWarning: `sparse` was renamed to `sparse_output` in version 1.2 and will be removed in 1.4. `sparse_output` is ignored unless you leave `sparse` to its default value.\n",
            "  warnings.warn(\n"
          ]
        }
      ],
      "source": [
        "import numpy as np\n",
        "import pandas as pd\n",
        "from sklearn.compose import ColumnTransformer\n",
        "from sklearn.preprocessing import OneHotEncoder, MinMaxScaler\n",
        "\n",
        "cat_cols = ['gender', 'area', 'qualification', 'marital_status', 'num_policies', 'policy', 'type_of_policy']\n",
        "num_cols = ['income', 'vintage', 'claim_amount']\n",
        "\n",
        "cat_transformer = OneHotEncoder(categories='auto', sparse=False)\n",
        "num_transformer = MinMaxScaler()\n",
        "\n",
        "preprocessor = ColumnTransformer(\n",
        "    transformers=[\n",
        "        ('cat', cat_transformer, cat_cols),\n",
        "        ('num', num_transformer, num_cols)\n",
        "    ])\n",
        "\n",
        "X_train = preprocessor.fit_transform(X_train)\n",
        "X_test = preprocessor.transform(X_test)\n",
        "\n",
        "print(X_train.shape)\n",
        "print(X_test.shape)\n"
      ]
    },
    {
      "cell_type": "markdown",
      "source": [
        "### Q. 16:\n",
        "Apply `SequentialFeatureSelector` transformer with direction= 'forward' with `LinearRegression()` estimator and select 5 features by fitting to the X_train and y_train. \n",
        "\n",
        "* Use cv = KFold(n_splits=5,random_state=42,shuffle=True) in SequentialFeatureSelector.\n",
        "\n",
        " Which of the following options represents the correct integer index of the selected features list?"
      ],
      "metadata": {
        "id": "jFNPyqjMnjlp"
      }
    },
    {
      "cell_type": "code",
      "execution_count": null,
      "metadata": {
        "id": "wiERjXsqnjlq",
        "colab": {
          "base_uri": "https://localhost:8080/"
        },
        "outputId": "d6637d99-0245-473a-ff6f-0b23b70d1476"
      },
      "outputs": [
        {
          "output_type": "stream",
          "name": "stdout",
          "text": [
            "[False, False, False, True, False, False, False, True, False, False, True, False, False, True, False, False, False, False, False, True]\n"
          ]
        }
      ],
      "source": [
        "from sklearn.feature_selection import SequentialFeatureSelector\n",
        "from sklearn.linear_model import LinearRegression\n",
        "from sklearn.model_selection import KFold\n",
        "\n",
        "sfs = SequentialFeatureSelector(LinearRegression(), n_features_to_select=5, direction='forward', cv=KFold(n_splits=5, random_state=42, shuffle=True))\n",
        "sfs.fit(X_train, y_train)\n",
        "\n",
        "selected_features = list(sfs.get_support())\n",
        "print(selected_features)"
      ]
    },
    {
      "cell_type": "markdown",
      "source": [
        "### Q. 17:\n",
        "Apply `LinearRegression` on the trainig set(`X_train` and `y_train`). What is the `R2 score` on the test set(`X_test` and `y_test`)."
      ],
      "metadata": {
        "id": "dcoYOyJdnjsu"
      }
    },
    {
      "cell_type": "code",
      "execution_count": null,
      "metadata": {
        "id": "W_PzF3QOnjsu",
        "colab": {
          "base_uri": "https://localhost:8080/"
        },
        "outputId": "228baff9-0821-4849-89ac-9d6165a61c3e"
      },
      "outputs": [
        {
          "output_type": "stream",
          "name": "stdout",
          "text": [
            "-5.768186105129634\n"
          ]
        }
      ],
      "source": [
        "from sklearn.linear_model import LinearRegression\n",
        "from sklearn.metrics import r2_score\n",
        "\n",
        "lr = LinearRegression()\n",
        "lr.fit(X_train, y_train)\n",
        "y_pred = lr.predict(X_test)\n",
        "\n",
        "print(r2_score(y_test, y_pred))"
      ]
    },
    {
      "cell_type": "markdown",
      "source": [
        "### Q. 18:\n",
        "Using the `LinearRegression` model, compute the `cross-validation scores` for `5 splits` on training data (X_train and y_train) using `cross_val_score`.Enter the maximum value of `𝑅2 score`"
      ],
      "metadata": {
        "id": "4BhzomH5njzL"
      }
    },
    {
      "cell_type": "code",
      "execution_count": null,
      "metadata": {
        "id": "dADPEykAnjzL",
        "colab": {
          "base_uri": "https://localhost:8080/"
        },
        "outputId": "d5618466-e46b-4395-f55b-22e3b2230a2e"
      },
      "outputs": [
        {
          "output_type": "stream",
          "name": "stdout",
          "text": [
            "0.1323021431962767\n"
          ]
        }
      ],
      "source": [
        "from sklearn.model_selection import cross_val_score\n",
        "\n",
        "cv_scores = cross_val_score(lr, X_train, y_train, cv=5)\n",
        "\n",
        "print(cv_scores.mean())"
      ]
    },
    {
      "cell_type": "markdown",
      "source": [
        "### Q. 19:\n",
        "\n",
        "Apply Ridge regression with random_state=42 with default penalty value on training set(X_train and y_train) and calculate the 𝑅2 score on test_set (X_test and y_test). What is the correct score"
      ],
      "metadata": {
        "id": "T29iYvqwnj5G"
      }
    },
    {
      "cell_type": "code",
      "execution_count": null,
      "metadata": {
        "id": "cVYNn87cnj5G",
        "colab": {
          "base_uri": "https://localhost:8080/"
        },
        "outputId": "47553c67-9bba-4b9c-b859-74cdb288d937"
      },
      "outputs": [
        {
          "output_type": "stream",
          "name": "stdout",
          "text": [
            "-6.692927197965289\n"
          ]
        }
      ],
      "source": [
        "from sklearn.linear_model import Ridge\n",
        "from sklearn.metrics import r2_score\n",
        "\n",
        "ridge = Ridge(random_state=42)\n",
        "ridge.fit(X_train, y_train)\n",
        "y_pred = ridge.predict(X_test)\n",
        "\n",
        "r2 = r2_score(y_test, y_pred)\n",
        "print(r2)\n"
      ]
    },
    {
      "cell_type": "markdown",
      "source": [
        "### Q. 20:\n",
        "Apply `Lasso regression` with random_state=42 and regularization rate=0.1 on the training data(X_train & y_train). Enter the value of the `intercept` you got correctly upto 2 digits after decimal points"
      ],
      "metadata": {
        "id": "ImoMFOgqnj-u"
      }
    },
    {
      "cell_type": "code",
      "execution_count": null,
      "metadata": {
        "id": "_Y_A8XCDnj-u",
        "colab": {
          "base_uri": "https://localhost:8080/"
        },
        "outputId": "d764d776-0f48-4f02-c686-289e0cb22862"
      },
      "outputs": [
        {
          "output_type": "stream",
          "name": "stdout",
          "text": [
            "107300.60205407698\n"
          ]
        },
        {
          "output_type": "stream",
          "name": "stderr",
          "text": [
            "/usr/local/lib/python3.9/dist-packages/sklearn/linear_model/_coordinate_descent.py:631: ConvergenceWarning: Objective did not converge. You might want to increase the number of iterations, check the scale of the features or consider increasing regularisation. Duality gap: 1.284e+12, tolerance: 3.600e+09\n",
            "  model = cd_fast.enet_coordinate_descent(\n"
          ]
        }
      ],
      "source": [
        "from sklearn.linear_model import Lasso\n",
        "\n",
        "lasso = Lasso(alpha=0.1, random_state=42)\n",
        "lasso.fit(X_train, y_train)\n",
        "\n",
        "intercept = lasso.intercept_\n",
        "print(intercept)\n"
      ]
    },
    {
      "cell_type": "markdown",
      "source": [
        "### Q. 21:\n",
        "\n",
        "Fit `SGDRegressor(random_state=42)` estimator on the training data(X_train & y_train) and predict labels for test_data(X_test), lets call it as `y_test_predict`. The parameters are initialized with default values. Calculate and mark the correct `mean_absolute_error` value between `y_test` and `y_test_predict` from the given options. (Correct upto two decimals)"
      ],
      "metadata": {
        "id": "WFX76nLynkE_"
      }
    },
    {
      "cell_type": "code",
      "execution_count": null,
      "metadata": {
        "id": "BCL-q5lTnkE_",
        "colab": {
          "base_uri": "https://localhost:8080/"
        },
        "outputId": "8193cb93-ba27-456e-bfea-9424a7797d4d"
      },
      "outputs": [
        {
          "output_type": "stream",
          "name": "stdout",
          "text": [
            "139557.27740974707\n"
          ]
        }
      ],
      "source": [
        "from sklearn.linear_model import SGDRegressor\n",
        "from sklearn.metrics import mean_absolute_error\n",
        "\n",
        "sgd = SGDRegressor(random_state=42)\n",
        "sgd.fit(X_train, y_train)\n",
        "\n",
        "y_test_predict = sgd.predict(X_test)\n",
        "mae = mean_absolute_error(y_test, y_test_predict)\n",
        "\n",
        "print(mae)\n"
      ]
    },
    {
      "cell_type": "markdown",
      "source": [
        "### Q. 22:\n",
        "\n",
        "Using `SGDRegressor(random_state=42)` as an estimator for exactly 10 iterations.\n",
        "\n",
        "Write the correct R2 score on test data \n"
      ],
      "metadata": {
        "id": "5jOcKn3EnkLR"
      }
    },
    {
      "cell_type": "code",
      "execution_count": null,
      "metadata": {
        "id": "da7kN20nnkLR",
        "colab": {
          "base_uri": "https://localhost:8080/"
        },
        "outputId": "0b8aab69-fc67-48cc-f85c-1f268746f9f4"
      },
      "outputs": [
        {
          "output_type": "stream",
          "name": "stdout",
          "text": [
            "-4.515765444440852\n"
          ]
        },
        {
          "output_type": "stream",
          "name": "stderr",
          "text": [
            "/usr/local/lib/python3.9/dist-packages/sklearn/linear_model/_stochastic_gradient.py:1549: ConvergenceWarning: Maximum number of iteration reached before convergence. Consider increasing max_iter to improve the fit.\n",
            "  warnings.warn(\n"
          ]
        }
      ],
      "source": [
        "from sklearn.linear_model import SGDRegressor\n",
        "from sklearn.metrics import r2_score\n",
        "\n",
        "sgd = SGDRegressor(random_state=42, max_iter=10)\n",
        "sgd.fit(X_train, y_train)\n",
        "\n",
        "y_test_predict = sgd.predict(X_test)\n",
        "r2 = r2_score(y_test, y_test_predict)\n",
        "\n",
        "print(r2)"
      ]
    },
    {
      "cell_type": "markdown",
      "source": [
        "### Q. 23:\n",
        "Mark the best `alpha` value you got using above instructions."
      ],
      "metadata": {
        "id": "ESkoZ7BinkUm"
      }
    },
    {
      "cell_type": "code",
      "execution_count": null,
      "metadata": {
        "id": "AccjZgrnnkUn",
        "colab": {
          "base_uri": "https://localhost:8080/"
        },
        "outputId": "eefcd36a-413e-4d23-a5c6-66cdd039e274"
      },
      "outputs": [
        {
          "output_type": "stream",
          "name": "stderr",
          "text": [
            "/usr/local/lib/python3.9/dist-packages/sklearn/linear_model/_coordinate_descent.py:631: ConvergenceWarning: Objective did not converge. You might want to increase the number of iterations, check the scale of the features or consider increasing regularisation. Duality gap: 1.041e+12, tolerance: 2.954e+09\n",
            "  model = cd_fast.enet_coordinate_descent(\n",
            "/usr/local/lib/python3.9/dist-packages/sklearn/linear_model/_coordinate_descent.py:631: ConvergenceWarning: Objective did not converge. You might want to increase the number of iterations, check the scale of the features or consider increasing regularisation. Duality gap: 1.019e+12, tolerance: 2.884e+09\n",
            "  model = cd_fast.enet_coordinate_descent(\n",
            "/usr/local/lib/python3.9/dist-packages/sklearn/linear_model/_coordinate_descent.py:631: ConvergenceWarning: Objective did not converge. You might want to increase the number of iterations, check the scale of the features or consider increasing regularisation. Duality gap: 1.004e+12, tolerance: 2.829e+09\n",
            "  model = cd_fast.enet_coordinate_descent(\n",
            "/usr/local/lib/python3.9/dist-packages/sklearn/linear_model/_coordinate_descent.py:631: ConvergenceWarning: Objective did not converge. You might want to increase the number of iterations, check the scale of the features or consider increasing regularisation. Duality gap: 1.061e+12, tolerance: 2.849e+09\n",
            "  model = cd_fast.enet_coordinate_descent(\n",
            "/usr/local/lib/python3.9/dist-packages/sklearn/linear_model/_coordinate_descent.py:631: ConvergenceWarning: Objective did not converge. You might want to increase the number of iterations, check the scale of the features or consider increasing regularisation. Duality gap: 1.006e+12, tolerance: 2.882e+09\n",
            "  model = cd_fast.enet_coordinate_descent(\n",
            "/usr/local/lib/python3.9/dist-packages/sklearn/linear_model/_coordinate_descent.py:631: ConvergenceWarning: Objective did not converge. You might want to increase the number of iterations, check the scale of the features or consider increasing regularisation. Duality gap: 6.753e+12, tolerance: 2.954e+09\n",
            "  model = cd_fast.enet_coordinate_descent(\n",
            "/usr/local/lib/python3.9/dist-packages/sklearn/linear_model/_coordinate_descent.py:631: ConvergenceWarning: Objective did not converge. You might want to increase the number of iterations, check the scale of the features or consider increasing regularisation. Duality gap: 5.841e+12, tolerance: 2.884e+09\n",
            "  model = cd_fast.enet_coordinate_descent(\n",
            "/usr/local/lib/python3.9/dist-packages/sklearn/linear_model/_coordinate_descent.py:631: ConvergenceWarning: Objective did not converge. You might want to increase the number of iterations, check the scale of the features or consider increasing regularisation. Duality gap: 3.589e+12, tolerance: 2.829e+09\n",
            "  model = cd_fast.enet_coordinate_descent(\n",
            "/usr/local/lib/python3.9/dist-packages/sklearn/linear_model/_coordinate_descent.py:631: ConvergenceWarning: Objective did not converge. You might want to increase the number of iterations, check the scale of the features or consider increasing regularisation. Duality gap: 6.867e+12, tolerance: 2.849e+09\n",
            "  model = cd_fast.enet_coordinate_descent(\n",
            "/usr/local/lib/python3.9/dist-packages/sklearn/linear_model/_coordinate_descent.py:631: ConvergenceWarning: Objective did not converge. You might want to increase the number of iterations, check the scale of the features or consider increasing regularisation. Duality gap: 4.914e+12, tolerance: 2.882e+09\n",
            "  model = cd_fast.enet_coordinate_descent(\n",
            "/usr/local/lib/python3.9/dist-packages/sklearn/linear_model/_coordinate_descent.py:631: ConvergenceWarning: Objective did not converge. You might want to increase the number of iterations, check the scale of the features or consider increasing regularisation. Duality gap: 1.041e+12, tolerance: 2.954e+09\n",
            "  model = cd_fast.enet_coordinate_descent(\n",
            "/usr/local/lib/python3.9/dist-packages/sklearn/linear_model/_coordinate_descent.py:631: ConvergenceWarning: Objective did not converge. You might want to increase the number of iterations, check the scale of the features or consider increasing regularisation. Duality gap: 1.019e+12, tolerance: 2.884e+09\n",
            "  model = cd_fast.enet_coordinate_descent(\n",
            "/usr/local/lib/python3.9/dist-packages/sklearn/linear_model/_coordinate_descent.py:631: ConvergenceWarning: Objective did not converge. You might want to increase the number of iterations, check the scale of the features or consider increasing regularisation. Duality gap: 1.004e+12, tolerance: 2.829e+09\n",
            "  model = cd_fast.enet_coordinate_descent(\n",
            "/usr/local/lib/python3.9/dist-packages/sklearn/linear_model/_coordinate_descent.py:631: ConvergenceWarning: Objective did not converge. You might want to increase the number of iterations, check the scale of the features or consider increasing regularisation. Duality gap: 1.061e+12, tolerance: 2.849e+09\n",
            "  model = cd_fast.enet_coordinate_descent(\n",
            "/usr/local/lib/python3.9/dist-packages/sklearn/linear_model/_coordinate_descent.py:631: ConvergenceWarning: Objective did not converge. You might want to increase the number of iterations, check the scale of the features or consider increasing regularisation. Duality gap: 1.006e+12, tolerance: 2.882e+09\n",
            "  model = cd_fast.enet_coordinate_descent(\n",
            "/usr/local/lib/python3.9/dist-packages/sklearn/linear_model/_coordinate_descent.py:631: ConvergenceWarning: Objective did not converge. You might want to increase the number of iterations, check the scale of the features or consider increasing regularisation. Duality gap: 6.623e+12, tolerance: 2.954e+09\n",
            "  model = cd_fast.enet_coordinate_descent(\n",
            "/usr/local/lib/python3.9/dist-packages/sklearn/linear_model/_coordinate_descent.py:631: ConvergenceWarning: Objective did not converge. You might want to increase the number of iterations, check the scale of the features or consider increasing regularisation. Duality gap: 4.950e+12, tolerance: 2.884e+09\n",
            "  model = cd_fast.enet_coordinate_descent(\n",
            "/usr/local/lib/python3.9/dist-packages/sklearn/linear_model/_coordinate_descent.py:631: ConvergenceWarning: Objective did not converge. You might want to increase the number of iterations, check the scale of the features or consider increasing regularisation. Duality gap: 3.583e+12, tolerance: 2.829e+09\n",
            "  model = cd_fast.enet_coordinate_descent(\n",
            "/usr/local/lib/python3.9/dist-packages/sklearn/linear_model/_coordinate_descent.py:631: ConvergenceWarning: Objective did not converge. You might want to increase the number of iterations, check the scale of the features or consider increasing regularisation. Duality gap: 6.862e+12, tolerance: 2.849e+09\n",
            "  model = cd_fast.enet_coordinate_descent(\n",
            "/usr/local/lib/python3.9/dist-packages/sklearn/linear_model/_coordinate_descent.py:631: ConvergenceWarning: Objective did not converge. You might want to increase the number of iterations, check the scale of the features or consider increasing regularisation. Duality gap: 4.943e+12, tolerance: 2.882e+09\n",
            "  model = cd_fast.enet_coordinate_descent(\n",
            "/usr/local/lib/python3.9/dist-packages/sklearn/linear_model/_coordinate_descent.py:631: ConvergenceWarning: Objective did not converge. You might want to increase the number of iterations, check the scale of the features or consider increasing regularisation. Duality gap: 1.041e+12, tolerance: 2.954e+09\n",
            "  model = cd_fast.enet_coordinate_descent(\n",
            "/usr/local/lib/python3.9/dist-packages/sklearn/linear_model/_coordinate_descent.py:631: ConvergenceWarning: Objective did not converge. You might want to increase the number of iterations, check the scale of the features or consider increasing regularisation. Duality gap: 1.019e+12, tolerance: 2.884e+09\n",
            "  model = cd_fast.enet_coordinate_descent(\n",
            "/usr/local/lib/python3.9/dist-packages/sklearn/linear_model/_coordinate_descent.py:631: ConvergenceWarning: Objective did not converge. You might want to increase the number of iterations, check the scale of the features or consider increasing regularisation. Duality gap: 1.004e+12, tolerance: 2.829e+09\n",
            "  model = cd_fast.enet_coordinate_descent(\n",
            "/usr/local/lib/python3.9/dist-packages/sklearn/linear_model/_coordinate_descent.py:631: ConvergenceWarning: Objective did not converge. You might want to increase the number of iterations, check the scale of the features or consider increasing regularisation. Duality gap: 1.061e+12, tolerance: 2.849e+09\n",
            "  model = cd_fast.enet_coordinate_descent(\n",
            "/usr/local/lib/python3.9/dist-packages/sklearn/linear_model/_coordinate_descent.py:631: ConvergenceWarning: Objective did not converge. You might want to increase the number of iterations, check the scale of the features or consider increasing regularisation. Duality gap: 1.006e+12, tolerance: 2.882e+09\n",
            "  model = cd_fast.enet_coordinate_descent(\n",
            "/usr/local/lib/python3.9/dist-packages/sklearn/linear_model/_coordinate_descent.py:631: ConvergenceWarning: Objective did not converge. You might want to increase the number of iterations, check the scale of the features or consider increasing regularisation. Duality gap: 6.852e+12, tolerance: 2.954e+09\n",
            "  model = cd_fast.enet_coordinate_descent(\n",
            "/usr/local/lib/python3.9/dist-packages/sklearn/linear_model/_coordinate_descent.py:631: ConvergenceWarning: Objective did not converge. You might want to increase the number of iterations, check the scale of the features or consider increasing regularisation. Duality gap: 4.745e+12, tolerance: 2.884e+09\n",
            "  model = cd_fast.enet_coordinate_descent(\n",
            "/usr/local/lib/python3.9/dist-packages/sklearn/linear_model/_coordinate_descent.py:631: ConvergenceWarning: Objective did not converge. You might want to increase the number of iterations, check the scale of the features or consider increasing regularisation. Duality gap: 5.080e+12, tolerance: 2.829e+09\n",
            "  model = cd_fast.enet_coordinate_descent(\n",
            "/usr/local/lib/python3.9/dist-packages/sklearn/linear_model/_coordinate_descent.py:631: ConvergenceWarning: Objective did not converge. You might want to increase the number of iterations, check the scale of the features or consider increasing regularisation. Duality gap: 5.511e+12, tolerance: 2.849e+09\n",
            "  model = cd_fast.enet_coordinate_descent(\n",
            "/usr/local/lib/python3.9/dist-packages/sklearn/linear_model/_coordinate_descent.py:631: ConvergenceWarning: Objective did not converge. You might want to increase the number of iterations, check the scale of the features or consider increasing regularisation. Duality gap: 4.279e+12, tolerance: 2.882e+09\n",
            "  model = cd_fast.enet_coordinate_descent(\n",
            "/usr/local/lib/python3.9/dist-packages/sklearn/linear_model/_coordinate_descent.py:631: ConvergenceWarning: Objective did not converge. You might want to increase the number of iterations, check the scale of the features or consider increasing regularisation. Duality gap: 1.041e+12, tolerance: 2.954e+09\n",
            "  model = cd_fast.enet_coordinate_descent(\n",
            "/usr/local/lib/python3.9/dist-packages/sklearn/linear_model/_coordinate_descent.py:631: ConvergenceWarning: Objective did not converge. You might want to increase the number of iterations, check the scale of the features or consider increasing regularisation. Duality gap: 7.836e+10, tolerance: 2.829e+09\n",
            "  model = cd_fast.enet_coordinate_descent(\n",
            "/usr/local/lib/python3.9/dist-packages/sklearn/linear_model/_coordinate_descent.py:631: ConvergenceWarning: Objective did not converge. You might want to increase the number of iterations, check the scale of the features or consider increasing regularisation. Duality gap: 5.370e+12, tolerance: 2.954e+09\n",
            "  model = cd_fast.enet_coordinate_descent(\n",
            "/usr/local/lib/python3.9/dist-packages/sklearn/linear_model/_coordinate_descent.py:631: ConvergenceWarning: Objective did not converge. You might want to increase the number of iterations, check the scale of the features or consider increasing regularisation. Duality gap: 3.600e+12, tolerance: 2.884e+09\n",
            "  model = cd_fast.enet_coordinate_descent(\n",
            "/usr/local/lib/python3.9/dist-packages/sklearn/linear_model/_coordinate_descent.py:631: ConvergenceWarning: Objective did not converge. You might want to increase the number of iterations, check the scale of the features or consider increasing regularisation. Duality gap: 5.560e+12, tolerance: 2.829e+09\n",
            "  model = cd_fast.enet_coordinate_descent(\n",
            "/usr/local/lib/python3.9/dist-packages/sklearn/linear_model/_coordinate_descent.py:631: ConvergenceWarning: Objective did not converge. You might want to increase the number of iterations, check the scale of the features or consider increasing regularisation. Duality gap: 3.838e+12, tolerance: 2.849e+09\n",
            "  model = cd_fast.enet_coordinate_descent(\n",
            "/usr/local/lib/python3.9/dist-packages/sklearn/linear_model/_coordinate_descent.py:631: ConvergenceWarning: Objective did not converge. You might want to increase the number of iterations, check the scale of the features or consider increasing regularisation. Duality gap: 4.529e+12, tolerance: 2.882e+09\n",
            "  model = cd_fast.enet_coordinate_descent(\n",
            "/usr/local/lib/python3.9/dist-packages/sklearn/linear_model/_coordinate_descent.py:631: ConvergenceWarning: Objective did not converge. You might want to increase the number of iterations, check the scale of the features or consider increasing regularisation. Duality gap: 1.646e+12, tolerance: 2.954e+09\n",
            "  model = cd_fast.enet_coordinate_descent(\n",
            "/usr/local/lib/python3.9/dist-packages/sklearn/linear_model/_coordinate_descent.py:631: ConvergenceWarning: Objective did not converge. You might want to increase the number of iterations, check the scale of the features or consider increasing regularisation. Duality gap: 3.113e+12, tolerance: 2.884e+09\n",
            "  model = cd_fast.enet_coordinate_descent(\n",
            "/usr/local/lib/python3.9/dist-packages/sklearn/linear_model/_coordinate_descent.py:631: ConvergenceWarning: Objective did not converge. You might want to increase the number of iterations, check the scale of the features or consider increasing regularisation. Duality gap: 2.291e+12, tolerance: 2.829e+09\n",
            "  model = cd_fast.enet_coordinate_descent(\n",
            "/usr/local/lib/python3.9/dist-packages/sklearn/linear_model/_coordinate_descent.py:631: ConvergenceWarning: Objective did not converge. You might want to increase the number of iterations, check the scale of the features or consider increasing regularisation. Duality gap: 1.981e+12, tolerance: 2.849e+09\n",
            "  model = cd_fast.enet_coordinate_descent(\n"
          ]
        },
        {
          "output_type": "stream",
          "name": "stdout",
          "text": [
            "Best alpha value: 1.0\n"
          ]
        },
        {
          "output_type": "stream",
          "name": "stderr",
          "text": [
            "/usr/local/lib/python3.9/dist-packages/sklearn/linear_model/_coordinate_descent.py:631: ConvergenceWarning: Objective did not converge. You might want to increase the number of iterations, check the scale of the features or consider increasing regularisation. Duality gap: 3.449e+12, tolerance: 2.882e+09\n",
            "  model = cd_fast.enet_coordinate_descent(\n"
          ]
        }
      ],
      "source": [
        "from sklearn.pipeline import Pipeline\n",
        "from sklearn.preprocessing import PolynomialFeatures\n",
        "from sklearn.linear_model import Lasso\n",
        "from sklearn.model_selection import GridSearchCV\n",
        "\n",
        "pipe = Pipeline([\n",
        "    ('poly', PolynomialFeatures()),\n",
        "    ('lasso', Lasso())\n",
        "])\n",
        "\n",
        "param_grid = {\n",
        "    'poly__degree': [1, 2],\n",
        "    'lasso__alpha': np.logspace(-3, 0, num=5)\n",
        "}\n",
        "\n",
        "grid = GridSearchCV(pipe, param_grid=param_grid, scoring='neg_mean_absolute_error')\n",
        "grid.fit(X_train, y_train)\n",
        "print(\"Best alpha value:\", grid.best_params_['lasso__alpha'])"
      ]
    },
    {
      "cell_type": "markdown",
      "source": [
        "### Q. 24:\n",
        "\n",
        "Enter the best polynomial degree value you got using above instructions."
      ],
      "metadata": {
        "id": "t5dOg0ofQOOF"
      }
    },
    {
      "cell_type": "code",
      "execution_count": null,
      "metadata": {
        "id": "OsNvMrSrQOOY",
        "colab": {
          "base_uri": "https://localhost:8080/"
        },
        "outputId": "f3140dcc-29d1-45dd-bddf-a6268c76a231"
      },
      "outputs": [
        {
          "output_type": "stream",
          "name": "stdout",
          "text": [
            "Best polynomial degree value: 1\n"
          ]
        }
      ],
      "source": [
        "print(\"Best polynomial degree value:\", grid.best_params_['poly__degree'])"
      ]
    },
    {
      "cell_type": "markdown",
      "source": [
        "### Q. 25:\n",
        "\n",
        "What is the sum of `explained_variance_ratio_` ?"
      ],
      "metadata": {
        "id": "Iwu_2_p1QOt1"
      }
    },
    {
      "cell_type": "code",
      "execution_count": null,
      "metadata": {
        "id": "o9VmQZMiQOt2",
        "colab": {
          "base_uri": "https://localhost:8080/"
        },
        "outputId": "f09020d2-57cb-4ec2-b508-7a22bac752a3"
      },
      "outputs": [
        {
          "output_type": "stream",
          "name": "stdout",
          "text": [
            "0.6602820959751092\n"
          ]
        }
      ],
      "source": [
        "from sklearn.decomposition import PCA\n",
        "import numpy as np\n",
        "\n",
        "pca = PCA(n_components=5, svd_solver='full', whiten=True, random_state=42)\n",
        "X_train_pca = pca.fit_transform(X_train)\n",
        "\n",
        "sum_var_ratio = np.sum(pca.explained_variance_ratio_)\n",
        "print(sum_var_ratio)\n"
      ]
    },
    {
      "cell_type": "markdown",
      "source": [
        "### Q. 26:\n",
        "Use PCA transformed training data from earlier question and y_train to fit the `RidgeCV` estimator model having alpha value as [0.001,0.01,0.1,1]. Calculate the R2 score you got from the model for transformed test data(PCA transformed X_test)."
      ],
      "metadata": {
        "id": "gdwVH4N3QO4G"
      }
    },
    {
      "cell_type": "code",
      "execution_count": null,
      "metadata": {
        "id": "--ljH-XzQO4H",
        "colab": {
          "base_uri": "https://localhost:8080/"
        },
        "outputId": "b350d2d6-453c-4685-cce3-9fb44159e223"
      },
      "outputs": [
        {
          "output_type": "stream",
          "name": "stdout",
          "text": [
            "0.05511802928475107\n"
          ]
        }
      ],
      "source": [
        "from sklearn.decomposition import PCA\n",
        "from sklearn.linear_model import RidgeCV\n",
        "from sklearn.metrics import r2_score\n",
        "\n",
        "pca = PCA(n_components=5, svd_solver='full', whiten=True, random_state=42)\n",
        "X_train_pca = pca.fit_transform(X_train)\n",
        "X_test_pca = pca.transform(X_test)\n",
        "\n",
        "ridge_cv = RidgeCV(alphas=[0.001, 0.01, 0.1, 1], cv=5)\n",
        "ridge_cv.fit(X_train_pca, y_train)\n",
        "\n",
        "y_test_pred = ridge_cv.predict(X_test_pca)\n",
        "r2 = r2_score(y_test, y_test_pred)\n",
        "print(r2)\n"
      ]
    },
    {
      "cell_type": "code",
      "source": [],
      "metadata": {
        "id": "kdEKFvXEJ4lj"
      },
      "execution_count": null,
      "outputs": []
    }
  ]
}