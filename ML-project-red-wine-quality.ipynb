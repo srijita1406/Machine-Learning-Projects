{
 "cells": [
  {
   "cell_type": "code",
   "execution_count": 1,
   "id": "2f0c2c48",
   "metadata": {
    "_cell_guid": "b1076dfc-b9ad-4769-8c92-a6c4dae69d19",
    "_uuid": "8f2839f25d086af736a60e9eeb907d3b93b6e0e5",
    "execution": {
     "iopub.execute_input": "2022-09-26T06:21:02.668121Z",
     "iopub.status.busy": "2022-09-26T06:21:02.667449Z",
     "iopub.status.idle": "2022-09-26T06:21:02.688666Z",
     "shell.execute_reply": "2022-09-26T06:21:02.687666Z"
    },
    "papermill": {
     "duration": 0.034869,
     "end_time": "2022-09-26T06:21:02.691498",
     "exception": false,
     "start_time": "2022-09-26T06:21:02.656629",
     "status": "completed"
    },
    "tags": []
   },
   "outputs": [
    {
     "name": "stdout",
     "output_type": "stream",
     "text": [
      "/kaggle/input/red-wine-quality-cortez-et-al-2009/winequality-red.csv\n"
     ]
    }
   ],
   "source": [
    "# This Python 3 environment comes with many helpful analytics libraries installed\n",
    "# It is defined by the kaggle/python Docker image: https://github.com/kaggle/docker-python\n",
    "# For example, here's several helpful packages to load\n",
    "\n",
    "import numpy as np # linear algebra\n",
    "import pandas as pd # data processing, CSV file I/O (e.g. pd.read_csv)\n",
    "\n",
    "# Input data files are available in the read-only \"../input/\" directory\n",
    "# For example, running this (by clicking run or pressing Shift+Enter) will list all files under the input directory\n",
    "\n",
    "import os\n",
    "for dirname, _, filenames in os.walk('/kaggle/input'):\n",
    "    for filename in filenames:\n",
    "        print(os.path.join(dirname, filename))\n",
    "\n",
    "# You can write up to 20GB to the current directory (/kaggle/working/) that gets preserved as output when you create a version using \"Save & Run All\" \n",
    "# You can also write temporary files to /kaggle/temp/, but they won't be saved outside of the current session"
   ]
  },
  {
   "cell_type": "code",
   "execution_count": 2,
   "id": "7002a904",
   "metadata": {
    "execution": {
     "iopub.execute_input": "2022-09-26T06:21:02.708652Z",
     "iopub.status.busy": "2022-09-26T06:21:02.707814Z",
     "iopub.status.idle": "2022-09-26T06:21:05.019350Z",
     "shell.execute_reply": "2022-09-26T06:21:05.018096Z"
    },
    "papermill": {
     "duration": 2.32328,
     "end_time": "2022-09-26T06:21:05.022249",
     "exception": false,
     "start_time": "2022-09-26T06:21:02.698969",
     "status": "completed"
    },
    "tags": []
   },
   "outputs": [],
   "source": [
    "\n",
    "import matplotlib.pyplot as plt\n",
    "import seaborn as sns\n",
    "import plotly.express as px\n",
    "import warnings\n",
    "warnings.filterwarnings(\"ignore\")"
   ]
  },
  {
   "cell_type": "code",
   "execution_count": 3,
   "id": "f11e206c",
   "metadata": {
    "execution": {
     "iopub.execute_input": "2022-09-26T06:21:05.039208Z",
     "iopub.status.busy": "2022-09-26T06:21:05.038410Z",
     "iopub.status.idle": "2022-09-26T06:21:05.061727Z",
     "shell.execute_reply": "2022-09-26T06:21:05.060110Z"
    },
    "papermill": {
     "duration": 0.034574,
     "end_time": "2022-09-26T06:21:05.064365",
     "exception": false,
     "start_time": "2022-09-26T06:21:05.029791",
     "status": "completed"
    },
    "tags": []
   },
   "outputs": [],
   "source": [
    "\n",
    "data = pd.read_csv('../input/red-wine-quality-cortez-et-al-2009/winequality-red.csv')"
   ]
  },
  {
   "cell_type": "code",
   "execution_count": 4,
   "id": "a32ddf7d",
   "metadata": {
    "execution": {
     "iopub.execute_input": "2022-09-26T06:21:05.081369Z",
     "iopub.status.busy": "2022-09-26T06:21:05.080950Z",
     "iopub.status.idle": "2022-09-26T06:21:05.113097Z",
     "shell.execute_reply": "2022-09-26T06:21:05.111449Z"
    },
    "papermill": {
     "duration": 0.043664,
     "end_time": "2022-09-26T06:21:05.115706",
     "exception": false,
     "start_time": "2022-09-26T06:21:05.072042",
     "status": "completed"
    },
    "tags": []
   },
   "outputs": [
    {
     "name": "stdout",
     "output_type": "stream",
     "text": [
      "<class 'pandas.core.frame.DataFrame'>\n",
      "RangeIndex: 1599 entries, 0 to 1598\n",
      "Data columns (total 12 columns):\n",
      " #   Column                Non-Null Count  Dtype  \n",
      "---  ------                --------------  -----  \n",
      " 0   fixed acidity         1599 non-null   float64\n",
      " 1   volatile acidity      1599 non-null   float64\n",
      " 2   citric acid           1599 non-null   float64\n",
      " 3   residual sugar        1599 non-null   float64\n",
      " 4   chlorides             1599 non-null   float64\n",
      " 5   free sulfur dioxide   1599 non-null   float64\n",
      " 6   total sulfur dioxide  1599 non-null   float64\n",
      " 7   density               1599 non-null   float64\n",
      " 8   pH                    1599 non-null   float64\n",
      " 9   sulphates             1599 non-null   float64\n",
      " 10  alcohol               1599 non-null   float64\n",
      " 11  quality               1599 non-null   int64  \n",
      "dtypes: float64(11), int64(1)\n",
      "memory usage: 150.0 KB\n"
     ]
    }
   ],
   "source": [
    "data.info()"
   ]
  },
  {
   "cell_type": "code",
   "execution_count": 5,
   "id": "69340dd6",
   "metadata": {
    "execution": {
     "iopub.execute_input": "2022-09-26T06:21:05.132068Z",
     "iopub.status.busy": "2022-09-26T06:21:05.131645Z",
     "iopub.status.idle": "2022-09-26T06:21:05.163847Z",
     "shell.execute_reply": "2022-09-26T06:21:05.162607Z"
    },
    "papermill": {
     "duration": 0.043358,
     "end_time": "2022-09-26T06:21:05.166502",
     "exception": false,
     "start_time": "2022-09-26T06:21:05.123144",
     "status": "completed"
    },
    "tags": []
   },
   "outputs": [
    {
     "data": {
      "text/html": [
       "<div>\n",
       "<style scoped>\n",
       "    .dataframe tbody tr th:only-of-type {\n",
       "        vertical-align: middle;\n",
       "    }\n",
       "\n",
       "    .dataframe tbody tr th {\n",
       "        vertical-align: top;\n",
       "    }\n",
       "\n",
       "    .dataframe thead th {\n",
       "        text-align: right;\n",
       "    }\n",
       "</style>\n",
       "<table border=\"1\" class=\"dataframe\">\n",
       "  <thead>\n",
       "    <tr style=\"text-align: right;\">\n",
       "      <th></th>\n",
       "      <th>fixed acidity</th>\n",
       "      <th>volatile acidity</th>\n",
       "      <th>citric acid</th>\n",
       "      <th>residual sugar</th>\n",
       "      <th>chlorides</th>\n",
       "      <th>free sulfur dioxide</th>\n",
       "      <th>total sulfur dioxide</th>\n",
       "      <th>density</th>\n",
       "      <th>pH</th>\n",
       "      <th>sulphates</th>\n",
       "      <th>alcohol</th>\n",
       "      <th>quality</th>\n",
       "    </tr>\n",
       "  </thead>\n",
       "  <tbody>\n",
       "    <tr>\n",
       "      <th>0</th>\n",
       "      <td>7.4</td>\n",
       "      <td>0.70</td>\n",
       "      <td>0.00</td>\n",
       "      <td>1.9</td>\n",
       "      <td>0.076</td>\n",
       "      <td>11.0</td>\n",
       "      <td>34.0</td>\n",
       "      <td>0.9978</td>\n",
       "      <td>3.51</td>\n",
       "      <td>0.56</td>\n",
       "      <td>9.4</td>\n",
       "      <td>5</td>\n",
       "    </tr>\n",
       "    <tr>\n",
       "      <th>1</th>\n",
       "      <td>7.8</td>\n",
       "      <td>0.88</td>\n",
       "      <td>0.00</td>\n",
       "      <td>2.6</td>\n",
       "      <td>0.098</td>\n",
       "      <td>25.0</td>\n",
       "      <td>67.0</td>\n",
       "      <td>0.9968</td>\n",
       "      <td>3.20</td>\n",
       "      <td>0.68</td>\n",
       "      <td>9.8</td>\n",
       "      <td>5</td>\n",
       "    </tr>\n",
       "    <tr>\n",
       "      <th>2</th>\n",
       "      <td>7.8</td>\n",
       "      <td>0.76</td>\n",
       "      <td>0.04</td>\n",
       "      <td>2.3</td>\n",
       "      <td>0.092</td>\n",
       "      <td>15.0</td>\n",
       "      <td>54.0</td>\n",
       "      <td>0.9970</td>\n",
       "      <td>3.26</td>\n",
       "      <td>0.65</td>\n",
       "      <td>9.8</td>\n",
       "      <td>5</td>\n",
       "    </tr>\n",
       "    <tr>\n",
       "      <th>3</th>\n",
       "      <td>11.2</td>\n",
       "      <td>0.28</td>\n",
       "      <td>0.56</td>\n",
       "      <td>1.9</td>\n",
       "      <td>0.075</td>\n",
       "      <td>17.0</td>\n",
       "      <td>60.0</td>\n",
       "      <td>0.9980</td>\n",
       "      <td>3.16</td>\n",
       "      <td>0.58</td>\n",
       "      <td>9.8</td>\n",
       "      <td>6</td>\n",
       "    </tr>\n",
       "    <tr>\n",
       "      <th>4</th>\n",
       "      <td>7.4</td>\n",
       "      <td>0.70</td>\n",
       "      <td>0.00</td>\n",
       "      <td>1.9</td>\n",
       "      <td>0.076</td>\n",
       "      <td>11.0</td>\n",
       "      <td>34.0</td>\n",
       "      <td>0.9978</td>\n",
       "      <td>3.51</td>\n",
       "      <td>0.56</td>\n",
       "      <td>9.4</td>\n",
       "      <td>5</td>\n",
       "    </tr>\n",
       "    <tr>\n",
       "      <th>5</th>\n",
       "      <td>7.4</td>\n",
       "      <td>0.66</td>\n",
       "      <td>0.00</td>\n",
       "      <td>1.8</td>\n",
       "      <td>0.075</td>\n",
       "      <td>13.0</td>\n",
       "      <td>40.0</td>\n",
       "      <td>0.9978</td>\n",
       "      <td>3.51</td>\n",
       "      <td>0.56</td>\n",
       "      <td>9.4</td>\n",
       "      <td>5</td>\n",
       "    </tr>\n",
       "    <tr>\n",
       "      <th>6</th>\n",
       "      <td>7.9</td>\n",
       "      <td>0.60</td>\n",
       "      <td>0.06</td>\n",
       "      <td>1.6</td>\n",
       "      <td>0.069</td>\n",
       "      <td>15.0</td>\n",
       "      <td>59.0</td>\n",
       "      <td>0.9964</td>\n",
       "      <td>3.30</td>\n",
       "      <td>0.46</td>\n",
       "      <td>9.4</td>\n",
       "      <td>5</td>\n",
       "    </tr>\n",
       "    <tr>\n",
       "      <th>7</th>\n",
       "      <td>7.3</td>\n",
       "      <td>0.65</td>\n",
       "      <td>0.00</td>\n",
       "      <td>1.2</td>\n",
       "      <td>0.065</td>\n",
       "      <td>15.0</td>\n",
       "      <td>21.0</td>\n",
       "      <td>0.9946</td>\n",
       "      <td>3.39</td>\n",
       "      <td>0.47</td>\n",
       "      <td>10.0</td>\n",
       "      <td>7</td>\n",
       "    </tr>\n",
       "    <tr>\n",
       "      <th>8</th>\n",
       "      <td>7.8</td>\n",
       "      <td>0.58</td>\n",
       "      <td>0.02</td>\n",
       "      <td>2.0</td>\n",
       "      <td>0.073</td>\n",
       "      <td>9.0</td>\n",
       "      <td>18.0</td>\n",
       "      <td>0.9968</td>\n",
       "      <td>3.36</td>\n",
       "      <td>0.57</td>\n",
       "      <td>9.5</td>\n",
       "      <td>7</td>\n",
       "    </tr>\n",
       "    <tr>\n",
       "      <th>9</th>\n",
       "      <td>7.5</td>\n",
       "      <td>0.50</td>\n",
       "      <td>0.36</td>\n",
       "      <td>6.1</td>\n",
       "      <td>0.071</td>\n",
       "      <td>17.0</td>\n",
       "      <td>102.0</td>\n",
       "      <td>0.9978</td>\n",
       "      <td>3.35</td>\n",
       "      <td>0.80</td>\n",
       "      <td>10.5</td>\n",
       "      <td>5</td>\n",
       "    </tr>\n",
       "  </tbody>\n",
       "</table>\n",
       "</div>"
      ],
      "text/plain": [
       "   fixed acidity  volatile acidity  citric acid  residual sugar  chlorides  \\\n",
       "0            7.4              0.70         0.00             1.9      0.076   \n",
       "1            7.8              0.88         0.00             2.6      0.098   \n",
       "2            7.8              0.76         0.04             2.3      0.092   \n",
       "3           11.2              0.28         0.56             1.9      0.075   \n",
       "4            7.4              0.70         0.00             1.9      0.076   \n",
       "5            7.4              0.66         0.00             1.8      0.075   \n",
       "6            7.9              0.60         0.06             1.6      0.069   \n",
       "7            7.3              0.65         0.00             1.2      0.065   \n",
       "8            7.8              0.58         0.02             2.0      0.073   \n",
       "9            7.5              0.50         0.36             6.1      0.071   \n",
       "\n",
       "   free sulfur dioxide  total sulfur dioxide  density    pH  sulphates  \\\n",
       "0                 11.0                  34.0   0.9978  3.51       0.56   \n",
       "1                 25.0                  67.0   0.9968  3.20       0.68   \n",
       "2                 15.0                  54.0   0.9970  3.26       0.65   \n",
       "3                 17.0                  60.0   0.9980  3.16       0.58   \n",
       "4                 11.0                  34.0   0.9978  3.51       0.56   \n",
       "5                 13.0                  40.0   0.9978  3.51       0.56   \n",
       "6                 15.0                  59.0   0.9964  3.30       0.46   \n",
       "7                 15.0                  21.0   0.9946  3.39       0.47   \n",
       "8                  9.0                  18.0   0.9968  3.36       0.57   \n",
       "9                 17.0                 102.0   0.9978  3.35       0.80   \n",
       "\n",
       "   alcohol  quality  \n",
       "0      9.4        5  \n",
       "1      9.8        5  \n",
       "2      9.8        5  \n",
       "3      9.8        6  \n",
       "4      9.4        5  \n",
       "5      9.4        5  \n",
       "6      9.4        5  \n",
       "7     10.0        7  \n",
       "8      9.5        7  \n",
       "9     10.5        5  "
      ]
     },
     "execution_count": 5,
     "metadata": {},
     "output_type": "execute_result"
    }
   ],
   "source": [
    "data.head(10)"
   ]
  },
  {
   "cell_type": "code",
   "execution_count": 6,
   "id": "64ef489e",
   "metadata": {
    "execution": {
     "iopub.execute_input": "2022-09-26T06:21:05.184765Z",
     "iopub.status.busy": "2022-09-26T06:21:05.184310Z",
     "iopub.status.idle": "2022-09-26T06:21:05.192055Z",
     "shell.execute_reply": "2022-09-26T06:21:05.190518Z"
    },
    "papermill": {
     "duration": 0.019591,
     "end_time": "2022-09-26T06:21:05.194546",
     "exception": false,
     "start_time": "2022-09-26T06:21:05.174955",
     "status": "completed"
    },
    "tags": []
   },
   "outputs": [
    {
     "name": "stdout",
     "output_type": "stream",
     "text": [
      "Feature list: ['fixed acidity' 'volatile acidity' 'citric acid' 'residual sugar'\n",
      " 'chlorides' 'free sulfur dioxide' 'total sulfur dioxide' 'density' 'pH'\n",
      " 'sulphates' 'alcohol']\n",
      "Label: ['quality']\n"
     ]
    }
   ],
   "source": [
    "feature_list = data.columns[:-1].values\n",
    "label = [data.columns[-1]]\n",
    "print (\"Feature list:\", feature_list)\n",
    "print (\"Label:\", label)"
   ]
  },
  {
   "cell_type": "markdown",
   "id": "5f74dd5d",
   "metadata": {
    "papermill": {
     "duration": 0.007468,
     "end_time": "2022-09-26T06:21:05.209766",
     "exception": false,
     "start_time": "2022-09-26T06:21:05.202298",
     "status": "completed"
    },
    "tags": []
   },
   "source": [
    "# **Data Statistics**\n",
    "\n",
    "Total entries: 1599 \n",
    "There are total 12 columns: 11\n",
    "features + 1 label\n",
    "Label column: quality\n",
    "Features: [fixed acidity, volitile\n",
    "acidity, citric acid, residual sugar,\n",
    "cholrides, free sulphur dioxide,\n",
    "total sulphur dioxide, density, pH,\n",
    "sulphates, alcohol]\n",
    "All columns are numeric (float64) and the\n",
    "label is an integer.\n"
   ]
  },
  {
   "cell_type": "code",
   "execution_count": 7,
   "id": "1872199d",
   "metadata": {
    "execution": {
     "iopub.execute_input": "2022-09-26T06:21:05.227778Z",
     "iopub.status.busy": "2022-09-26T06:21:05.226634Z",
     "iopub.status.idle": "2022-09-26T06:21:05.280804Z",
     "shell.execute_reply": "2022-09-26T06:21:05.279811Z"
    },
    "papermill": {
     "duration": 0.066033,
     "end_time": "2022-09-26T06:21:05.283696",
     "exception": false,
     "start_time": "2022-09-26T06:21:05.217663",
     "status": "completed"
    },
    "tags": []
   },
   "outputs": [
    {
     "data": {
      "text/html": [
       "<div>\n",
       "<style scoped>\n",
       "    .dataframe tbody tr th:only-of-type {\n",
       "        vertical-align: middle;\n",
       "    }\n",
       "\n",
       "    .dataframe tbody tr th {\n",
       "        vertical-align: top;\n",
       "    }\n",
       "\n",
       "    .dataframe thead th {\n",
       "        text-align: right;\n",
       "    }\n",
       "</style>\n",
       "<table border=\"1\" class=\"dataframe\">\n",
       "  <thead>\n",
       "    <tr style=\"text-align: right;\">\n",
       "      <th></th>\n",
       "      <th>fixed acidity</th>\n",
       "      <th>volatile acidity</th>\n",
       "      <th>citric acid</th>\n",
       "      <th>residual sugar</th>\n",
       "      <th>chlorides</th>\n",
       "      <th>free sulfur dioxide</th>\n",
       "      <th>total sulfur dioxide</th>\n",
       "      <th>density</th>\n",
       "      <th>pH</th>\n",
       "      <th>sulphates</th>\n",
       "      <th>alcohol</th>\n",
       "      <th>quality</th>\n",
       "    </tr>\n",
       "  </thead>\n",
       "  <tbody>\n",
       "    <tr>\n",
       "      <th>count</th>\n",
       "      <td>1599.000000</td>\n",
       "      <td>1599.000000</td>\n",
       "      <td>1599.000000</td>\n",
       "      <td>1599.000000</td>\n",
       "      <td>1599.000000</td>\n",
       "      <td>1599.000000</td>\n",
       "      <td>1599.000000</td>\n",
       "      <td>1599.000000</td>\n",
       "      <td>1599.000000</td>\n",
       "      <td>1599.000000</td>\n",
       "      <td>1599.000000</td>\n",
       "      <td>1599.000000</td>\n",
       "    </tr>\n",
       "    <tr>\n",
       "      <th>mean</th>\n",
       "      <td>8.319637</td>\n",
       "      <td>0.527821</td>\n",
       "      <td>0.270976</td>\n",
       "      <td>2.538806</td>\n",
       "      <td>0.087467</td>\n",
       "      <td>15.874922</td>\n",
       "      <td>46.467792</td>\n",
       "      <td>0.996747</td>\n",
       "      <td>3.311113</td>\n",
       "      <td>0.658149</td>\n",
       "      <td>10.422983</td>\n",
       "      <td>5.636023</td>\n",
       "    </tr>\n",
       "    <tr>\n",
       "      <th>std</th>\n",
       "      <td>1.741096</td>\n",
       "      <td>0.179060</td>\n",
       "      <td>0.194801</td>\n",
       "      <td>1.409928</td>\n",
       "      <td>0.047065</td>\n",
       "      <td>10.460157</td>\n",
       "      <td>32.895324</td>\n",
       "      <td>0.001887</td>\n",
       "      <td>0.154386</td>\n",
       "      <td>0.169507</td>\n",
       "      <td>1.065668</td>\n",
       "      <td>0.807569</td>\n",
       "    </tr>\n",
       "    <tr>\n",
       "      <th>min</th>\n",
       "      <td>4.600000</td>\n",
       "      <td>0.120000</td>\n",
       "      <td>0.000000</td>\n",
       "      <td>0.900000</td>\n",
       "      <td>0.012000</td>\n",
       "      <td>1.000000</td>\n",
       "      <td>6.000000</td>\n",
       "      <td>0.990070</td>\n",
       "      <td>2.740000</td>\n",
       "      <td>0.330000</td>\n",
       "      <td>8.400000</td>\n",
       "      <td>3.000000</td>\n",
       "    </tr>\n",
       "    <tr>\n",
       "      <th>25%</th>\n",
       "      <td>7.100000</td>\n",
       "      <td>0.390000</td>\n",
       "      <td>0.090000</td>\n",
       "      <td>1.900000</td>\n",
       "      <td>0.070000</td>\n",
       "      <td>7.000000</td>\n",
       "      <td>22.000000</td>\n",
       "      <td>0.995600</td>\n",
       "      <td>3.210000</td>\n",
       "      <td>0.550000</td>\n",
       "      <td>9.500000</td>\n",
       "      <td>5.000000</td>\n",
       "    </tr>\n",
       "    <tr>\n",
       "      <th>50%</th>\n",
       "      <td>7.900000</td>\n",
       "      <td>0.520000</td>\n",
       "      <td>0.260000</td>\n",
       "      <td>2.200000</td>\n",
       "      <td>0.079000</td>\n",
       "      <td>14.000000</td>\n",
       "      <td>38.000000</td>\n",
       "      <td>0.996750</td>\n",
       "      <td>3.310000</td>\n",
       "      <td>0.620000</td>\n",
       "      <td>10.200000</td>\n",
       "      <td>6.000000</td>\n",
       "    </tr>\n",
       "    <tr>\n",
       "      <th>75%</th>\n",
       "      <td>9.200000</td>\n",
       "      <td>0.640000</td>\n",
       "      <td>0.420000</td>\n",
       "      <td>2.600000</td>\n",
       "      <td>0.090000</td>\n",
       "      <td>21.000000</td>\n",
       "      <td>62.000000</td>\n",
       "      <td>0.997835</td>\n",
       "      <td>3.400000</td>\n",
       "      <td>0.730000</td>\n",
       "      <td>11.100000</td>\n",
       "      <td>6.000000</td>\n",
       "    </tr>\n",
       "    <tr>\n",
       "      <th>max</th>\n",
       "      <td>15.900000</td>\n",
       "      <td>1.580000</td>\n",
       "      <td>1.000000</td>\n",
       "      <td>15.500000</td>\n",
       "      <td>0.611000</td>\n",
       "      <td>72.000000</td>\n",
       "      <td>289.000000</td>\n",
       "      <td>1.003690</td>\n",
       "      <td>4.010000</td>\n",
       "      <td>2.000000</td>\n",
       "      <td>14.900000</td>\n",
       "      <td>8.000000</td>\n",
       "    </tr>\n",
       "  </tbody>\n",
       "</table>\n",
       "</div>"
      ],
      "text/plain": [
       "       fixed acidity  volatile acidity  citric acid  residual sugar  \\\n",
       "count    1599.000000       1599.000000  1599.000000     1599.000000   \n",
       "mean        8.319637          0.527821     0.270976        2.538806   \n",
       "std         1.741096          0.179060     0.194801        1.409928   \n",
       "min         4.600000          0.120000     0.000000        0.900000   \n",
       "25%         7.100000          0.390000     0.090000        1.900000   \n",
       "50%         7.900000          0.520000     0.260000        2.200000   \n",
       "75%         9.200000          0.640000     0.420000        2.600000   \n",
       "max        15.900000          1.580000     1.000000       15.500000   \n",
       "\n",
       "         chlorides  free sulfur dioxide  total sulfur dioxide      density  \\\n",
       "count  1599.000000          1599.000000           1599.000000  1599.000000   \n",
       "mean      0.087467            15.874922             46.467792     0.996747   \n",
       "std       0.047065            10.460157             32.895324     0.001887   \n",
       "min       0.012000             1.000000              6.000000     0.990070   \n",
       "25%       0.070000             7.000000             22.000000     0.995600   \n",
       "50%       0.079000            14.000000             38.000000     0.996750   \n",
       "75%       0.090000            21.000000             62.000000     0.997835   \n",
       "max       0.611000            72.000000            289.000000     1.003690   \n",
       "\n",
       "                pH    sulphates      alcohol      quality  \n",
       "count  1599.000000  1599.000000  1599.000000  1599.000000  \n",
       "mean      3.311113     0.658149    10.422983     5.636023  \n",
       "std       0.154386     0.169507     1.065668     0.807569  \n",
       "min       2.740000     0.330000     8.400000     3.000000  \n",
       "25%       3.210000     0.550000     9.500000     5.000000  \n",
       "50%       3.310000     0.620000    10.200000     6.000000  \n",
       "75%       3.400000     0.730000    11.100000     6.000000  \n",
       "max       4.010000     2.000000    14.900000     8.000000  "
      ]
     },
     "execution_count": 7,
     "metadata": {},
     "output_type": "execute_result"
    }
   ],
   "source": [
    "data.describe()"
   ]
  },
  {
   "cell_type": "code",
   "execution_count": 8,
   "id": "d807c0e8",
   "metadata": {
    "execution": {
     "iopub.execute_input": "2022-09-26T06:21:05.304548Z",
     "iopub.status.busy": "2022-09-26T06:21:05.303078Z",
     "iopub.status.idle": "2022-09-26T06:21:05.314112Z",
     "shell.execute_reply": "2022-09-26T06:21:05.312454Z"
    },
    "papermill": {
     "duration": 0.023665,
     "end_time": "2022-09-26T06:21:05.317056",
     "exception": false,
     "start_time": "2022-09-26T06:21:05.293391",
     "status": "completed"
    },
    "tags": []
   },
   "outputs": [
    {
     "data": {
      "text/plain": [
       "3     10\n",
       "8     18\n",
       "4     53\n",
       "7    199\n",
       "6    638\n",
       "5    681\n",
       "Name: quality, dtype: int64"
      ]
     },
     "execution_count": 8,
     "metadata": {},
     "output_type": "execute_result"
    }
   ],
   "source": [
    "data['quality'].value_counts(ascending=True)"
   ]
  },
  {
   "cell_type": "markdown",
   "id": "7c419333",
   "metadata": {
    "papermill": {
     "duration": 0.008157,
     "end_time": "2022-09-26T06:21:05.333926",
     "exception": false,
     "start_time": "2022-09-26T06:21:05.325769",
     "status": "completed"
    },
    "tags": []
   },
   "source": [
    "Average quality wines are the highest in number while both low quality and high quality wines are rare"
   ]
  },
  {
   "cell_type": "markdown",
   "id": "9e7afdc0",
   "metadata": {
    "papermill": {
     "duration": 0.007833,
     "end_time": "2022-09-26T06:21:05.349976",
     "exception": false,
     "start_time": "2022-09-26T06:21:05.342143",
     "status": "completed"
    },
    "tags": []
   },
   "source": [
    "# **Plotting histogram to visualise the data**"
   ]
  },
  {
   "cell_type": "code",
   "execution_count": 9,
   "id": "f5ff816c",
   "metadata": {
    "execution": {
     "iopub.execute_input": "2022-09-26T06:21:05.368673Z",
     "iopub.status.busy": "2022-09-26T06:21:05.367957Z",
     "iopub.status.idle": "2022-09-26T06:21:05.716211Z",
     "shell.execute_reply": "2022-09-26T06:21:05.714848Z"
    },
    "papermill": {
     "duration": 0.360699,
     "end_time": "2022-09-26T06:21:05.718937",
     "exception": false,
     "start_time": "2022-09-26T06:21:05.358238",
     "status": "completed"
    },
    "tags": []
   },
   "outputs": [
    {
     "data": {
      "text/plain": [
       "Text(0, 0.5, 'Count')"
      ]
     },
     "execution_count": 9,
     "metadata": {},
     "output_type": "execute_result"
    },
    {
     "data": {
      "image/png": "[encoded data removed]",
      "text/plain": [
       "<Figure size 432x288 with 1 Axes>"
      ]
     },
     "metadata": {},
     "output_type": "display_data"
    }
   ],
   "source": [
    "sns.set()\n",
    "data.quality.hist()\n",
    "plt.xlabel('Wine Quality')\n",
    "plt.ylabel('Count')\n"
   ]
  },
  {
   "cell_type": "markdown",
   "id": "4239d77e",
   "metadata": {
    "papermill": {
     "duration": 0.008529,
     "end_time": "2022-09-26T06:21:05.736673",
     "exception": false,
     "start_time": "2022-09-26T06:21:05.728144",
     "status": "completed"
    },
    "tags": []
   },
   "source": [
    "sns.set()\n",
    "data.quality.hist()\n",
    "plt.xlabel('Wine Quality')\n",
    "plt.ylabel('Count')"
   ]
  },
  {
   "cell_type": "markdown",
   "id": "7c80aeb1",
   "metadata": {
    "papermill": {
     "duration": 0.008339,
     "end_time": "2022-09-26T06:21:05.753614",
     "exception": false,
     "start_time": "2022-09-26T06:21:05.745275",
     "status": "completed"
    },
    "tags": []
   },
   "source": [
    "# **Dynamically add subplots **"
   ]
  },
  {
   "cell_type": "code",
   "execution_count": 10,
   "id": "0d5ea3cc",
   "metadata": {
    "execution": {
     "iopub.execute_input": "2022-09-26T06:21:05.772772Z",
     "iopub.status.busy": "2022-09-26T06:21:05.772297Z",
     "iopub.status.idle": "2022-09-26T06:21:07.469637Z",
     "shell.execute_reply": "2022-09-26T06:21:07.468445Z"
    },
    "papermill": {
     "duration": 1.710038,
     "end_time": "2022-09-26T06:21:07.472282",
     "exception": false,
     "start_time": "2022-09-26T06:21:05.762244",
     "status": "completed"
    },
    "tags": []
   },
   "outputs": [
    {
     "data": {
      "image/png": "[encoded data removed]",
      "text/plain": [
       "<Figure size 1080x576 with 6 Axes>"
      ]
     },
     "metadata": {},
     "output_type": "display_data"
    }
   ],
   "source": [
    "\n",
    "sns.set_theme()\n",
    "\n",
    "\n",
    "fig, axs = plt.subplots(2, 3, figsize=(15, 8))\n",
    "sns.histplot(data=data, x=\"total sulfur dioxide\", kde=True, ax=axs[0, 0])\n",
    "sns.histplot(data=data, x=\"density\", kde=True,ax=axs[0, 1])\n",
    "sns.histplot(data=data, x=\"pH\", kde=True,  ax=axs[0, 2])\n",
    "sns.histplot(data=data, x=\"sulphates\", kde=True,  ax=axs[1, 0])\n",
    "sns.histplot(data=data, x=\"alcohol\", kde=True, ax=axs[1, 1])\n",
    "sns.histplot(data=data, x=\"alcohol\", kde=True, ax=axs[1, 2])\n",
    "plt.xlabel('')\n",
    "\n",
    "\n",
    "plt.show()"
   ]
  },
  {
   "cell_type": "markdown",
   "id": "02640fbd",
   "metadata": {
    "papermill": {
     "duration": 0.009859,
     "end_time": "2022-09-26T06:21:07.492323",
     "exception": false,
     "start_time": "2022-09-26T06:21:07.482464",
     "status": "completed"
    },
    "tags": []
   },
   "source": [
    "A few observations based on these plots:\n",
    "1. Features are at different scales.\n",
    "2. Features have different distributions"
   ]
  },
  {
   "cell_type": "markdown",
   "id": "ca89fc5e",
   "metadata": {
    "papermill": {
     "duration": 0.010095,
     "end_time": "2022-09-26T06:21:07.512310",
     "exception": false,
     "start_time": "2022-09-26T06:21:07.502215",
     "status": "completed"
    },
    "tags": []
   },
   "source": [
    ">  # **Splitting the data into training and test set**"
   ]
  },
  {
   "cell_type": "markdown",
   "id": "cf438786",
   "metadata": {
    "papermill": {
     "duration": 0.009523,
     "end_time": "2022-09-26T06:21:07.531857",
     "exception": false,
     "start_time": "2022-09-26T06:21:07.522334",
     "status": "completed"
    },
    "tags": []
   },
   "source": [
    "# * *Splitting the dataset using a function* *"
   ]
  },
  {
   "cell_type": "code",
   "execution_count": 11,
   "id": "6e3ccbb2",
   "metadata": {
    "execution": {
     "iopub.execute_input": "2022-09-26T06:21:07.553260Z",
     "iopub.status.busy": "2022-09-26T06:21:07.552848Z",
     "iopub.status.idle": "2022-09-26T06:21:07.559754Z",
     "shell.execute_reply": "2022-09-26T06:21:07.558621Z"
    },
    "papermill": {
     "duration": 0.020343,
     "end_time": "2022-09-26T06:21:07.562164",
     "exception": false,
     "start_time": "2022-09-26T06:21:07.541821",
     "status": "completed"
    },
    "tags": []
   },
   "outputs": [],
   "source": [
    "def split_train_test(data, test_ratio):\n",
    "    # set the random seed.\n",
    "    np.random.seed(42)\n",
    "    # shuffle the dataset\n",
    "    shuffled_indices = np.random.permutation(len(data))\n",
    "    # calculate the size of the test set\n",
    "    test_set_size = int(len(data) * test_ratio)\n",
    "    # split dataset to get training and test sets.\n",
    "    test_indices = shuffled_indices[:test_set_size]\n",
    "    train_indices = shuffled_indices[test_set_size:]\n",
    "    return data.iloc[train_indices], data.iloc[test_indices]"
   ]
  },
  {
   "cell_type": "code",
   "execution_count": 12,
   "id": "287d442a",
   "metadata": {
    "execution": {
     "iopub.execute_input": "2022-09-26T06:21:07.584360Z",
     "iopub.status.busy": "2022-09-26T06:21:07.583107Z",
     "iopub.status.idle": "2022-09-26T06:21:07.590212Z",
     "shell.execute_reply": "2022-09-26T06:21:07.589056Z"
    },
    "papermill": {
     "duration": 0.020612,
     "end_time": "2022-09-26T06:21:07.592796",
     "exception": false,
     "start_time": "2022-09-26T06:21:07.572184",
     "status": "completed"
    },
    "tags": []
   },
   "outputs": [],
   "source": [
    "train_set, test_set = split_train_test(data, 0.2)"
   ]
  },
  {
   "cell_type": "markdown",
   "id": "c2a5e7ff",
   "metadata": {
    "papermill": {
     "duration": 0.009805,
     "end_time": "2022-09-26T06:21:07.613251",
     "exception": false,
     "start_time": "2022-09-26T06:21:07.603446",
     "status": "completed"
    },
    "tags": []
   },
   "source": [
    "# * *Splitting the data using scikit learn functions* *"
   ]
  },
  {
   "cell_type": "markdown",
   "id": "2f2e950b",
   "metadata": {
    "papermill": {
     "duration": 0.009437,
     "end_time": "2022-09-26T06:21:07.632254",
     "exception": false,
     "start_time": "2022-09-26T06:21:07.622817",
     "status": "completed"
    },
    "tags": []
   },
   "source": [
    "# **Data cleaning and Preparation**"
   ]
  },
  {
   "cell_type": "code",
   "execution_count": 13,
   "id": "9a932f82",
   "metadata": {
    "execution": {
     "iopub.execute_input": "2022-09-26T06:21:07.654605Z",
     "iopub.status.busy": "2022-09-26T06:21:07.653343Z",
     "iopub.status.idle": "2022-09-26T06:21:07.859528Z",
     "shell.execute_reply": "2022-09-26T06:21:07.857827Z"
    },
    "papermill": {
     "duration": 0.22036,
     "end_time": "2022-09-26T06:21:07.862647",
     "exception": false,
     "start_time": "2022-09-26T06:21:07.642287",
     "status": "completed"
    },
    "tags": []
   },
   "outputs": [],
   "source": [
    "#Random sampling\n",
    "\n",
    "from sklearn.model_selection import train_test_split\n",
    "train_set, test_set = train_test_split(data, test_size=0.2, random_state=42)"
   ]
  },
  {
   "cell_type": "code",
   "execution_count": 14,
   "id": "86413012",
   "metadata": {
    "execution": {
     "iopub.execute_input": "2022-09-26T06:21:07.884450Z",
     "iopub.status.busy": "2022-09-26T06:21:07.884042Z",
     "iopub.status.idle": "2022-09-26T06:21:07.893728Z",
     "shell.execute_reply": "2022-09-26T06:21:07.892390Z"
    },
    "papermill": {
     "duration": 0.02413,
     "end_time": "2022-09-26T06:21:07.896685",
     "exception": false,
     "start_time": "2022-09-26T06:21:07.872555",
     "status": "completed"
    },
    "tags": []
   },
   "outputs": [],
   "source": [
    "#Stratified sampling\n",
    "from sklearn.model_selection import StratifiedShuffleSplit\n",
    "split = StratifiedShuffleSplit(n_splits=1, test_size=0.2, random_state=42)\n",
    "for train_index, test_index in split.split(data, data[\"quality\"]):\n",
    "    strat_train_set = data.loc[train_index]\n",
    "    strat_test_set = data.loc[test_index]"
   ]
  },
  {
   "cell_type": "markdown",
   "id": "0e4b5dd8",
   "metadata": {
    "papermill": {
     "duration": 0.009202,
     "end_time": "2022-09-26T06:21:07.915527",
     "exception": false,
     "start_time": "2022-09-26T06:21:07.906325",
     "status": "completed"
    },
    "tags": []
   },
   "source": [
    "# * *Comaparing stratified vs random sampling with overall distribution* *"
   ]
  },
  {
   "cell_type": "code",
   "execution_count": 15,
   "id": "8876a167",
   "metadata": {
    "execution": {
     "iopub.execute_input": "2022-09-26T06:21:07.936730Z",
     "iopub.status.busy": "2022-09-26T06:21:07.936038Z",
     "iopub.status.idle": "2022-09-26T06:21:07.943163Z",
     "shell.execute_reply": "2022-09-26T06:21:07.941887Z"
    },
    "papermill": {
     "duration": 0.020639,
     "end_time": "2022-09-26T06:21:07.945692",
     "exception": false,
     "start_time": "2022-09-26T06:21:07.925053",
     "status": "completed"
    },
    "tags": []
   },
   "outputs": [],
   "source": [
    "strat_dist = strat_test_set[\"quality\"].value_counts() / len(strat_test_set)"
   ]
  },
  {
   "cell_type": "code",
   "execution_count": 16,
   "id": "61e3cb8d",
   "metadata": {
    "execution": {
     "iopub.execute_input": "2022-09-26T06:21:07.968744Z",
     "iopub.status.busy": "2022-09-26T06:21:07.967390Z",
     "iopub.status.idle": "2022-09-26T06:21:07.975119Z",
     "shell.execute_reply": "2022-09-26T06:21:07.973754Z"
    },
    "papermill": {
     "duration": 0.021639,
     "end_time": "2022-09-26T06:21:07.977792",
     "exception": false,
     "start_time": "2022-09-26T06:21:07.956153",
     "status": "completed"
    },
    "tags": []
   },
   "outputs": [],
   "source": [
    "overall_dist = data[\"quality\"].value_counts() / len(data)"
   ]
  },
  {
   "cell_type": "code",
   "execution_count": 17,
   "id": "ffe19b8b",
   "metadata": {
    "execution": {
     "iopub.execute_input": "2022-09-26T06:21:08.000421Z",
     "iopub.status.busy": "2022-09-26T06:21:07.999432Z",
     "iopub.status.idle": "2022-09-26T06:21:08.014102Z",
     "shell.execute_reply": "2022-09-26T06:21:08.012919Z"
    },
    "papermill": {
     "duration": 0.02932,
     "end_time": "2022-09-26T06:21:08.017134",
     "exception": false,
     "start_time": "2022-09-26T06:21:07.987814",
     "status": "completed"
    },
    "tags": []
   },
   "outputs": [],
   "source": [
    "dist_comparison = pd.DataFrame({'overall': overall_dist, 'stratified': strat_dist})\n",
    "dist_comparison['random_dist'] = test_set[\"quality\"].value_counts() / len(test_set)\n",
    "dist_comparison['diff(s-o)'] = dist_comparison['stratified'] - dist_comparison['overall']\n",
    "dist_comparison['diff(r-o)'] = dist_comparison['random_dist'] - dist_comparison['overall']\n",
    "dist_comparison['diff(s-o)_pct'] = 100*(dist_comparison['diff(s-o)']/dist_comparison['overall'])\n",
    "dist_comparison['diff(r-o)_pct'] = 100*(dist_comparison['diff(r-o)']/dist_comparison['overall'])\n"
   ]
  },
  {
   "cell_type": "code",
   "execution_count": 18,
   "id": "c8c2e3f2",
   "metadata": {
    "execution": {
     "iopub.execute_input": "2022-09-26T06:21:08.039331Z",
     "iopub.status.busy": "2022-09-26T06:21:08.038282Z",
     "iopub.status.idle": "2022-09-26T06:21:08.053916Z",
     "shell.execute_reply": "2022-09-26T06:21:08.052968Z"
    },
    "papermill": {
     "duration": 0.029476,
     "end_time": "2022-09-26T06:21:08.056482",
     "exception": false,
     "start_time": "2022-09-26T06:21:08.027006",
     "status": "completed"
    },
    "tags": []
   },
   "outputs": [
    {
     "data": {
      "text/html": [
       "<div>\n",
       "<style scoped>\n",
       "    .dataframe tbody tr th:only-of-type {\n",
       "        vertical-align: middle;\n",
       "    }\n",
       "\n",
       "    .dataframe tbody tr th {\n",
       "        vertical-align: top;\n",
       "    }\n",
       "\n",
       "    .dataframe thead th {\n",
       "        text-align: right;\n",
       "    }\n",
       "</style>\n",
       "<table border=\"1\" class=\"dataframe\">\n",
       "  <thead>\n",
       "    <tr style=\"text-align: right;\">\n",
       "      <th></th>\n",
       "      <th>overall</th>\n",
       "      <th>stratified</th>\n",
       "      <th>random_dist</th>\n",
       "      <th>diff(s-o)</th>\n",
       "      <th>diff(r-o)</th>\n",
       "      <th>diff(s-o)_pct</th>\n",
       "      <th>diff(r-o)_pct</th>\n",
       "    </tr>\n",
       "  </thead>\n",
       "  <tbody>\n",
       "    <tr>\n",
       "      <th>5</th>\n",
       "      <td>0.425891</td>\n",
       "      <td>0.425000</td>\n",
       "      <td>0.406250</td>\n",
       "      <td>-0.000891</td>\n",
       "      <td>-0.019641</td>\n",
       "      <td>-0.209251</td>\n",
       "      <td>-4.611784</td>\n",
       "    </tr>\n",
       "    <tr>\n",
       "      <th>6</th>\n",
       "      <td>0.398999</td>\n",
       "      <td>0.400000</td>\n",
       "      <td>0.412500</td>\n",
       "      <td>0.001001</td>\n",
       "      <td>0.013501</td>\n",
       "      <td>0.250784</td>\n",
       "      <td>3.383621</td>\n",
       "    </tr>\n",
       "    <tr>\n",
       "      <th>7</th>\n",
       "      <td>0.124453</td>\n",
       "      <td>0.125000</td>\n",
       "      <td>0.131250</td>\n",
       "      <td>0.000547</td>\n",
       "      <td>0.006797</td>\n",
       "      <td>0.439698</td>\n",
       "      <td>5.461683</td>\n",
       "    </tr>\n",
       "    <tr>\n",
       "      <th>4</th>\n",
       "      <td>0.033146</td>\n",
       "      <td>0.034375</td>\n",
       "      <td>0.031250</td>\n",
       "      <td>0.001229</td>\n",
       "      <td>-0.001896</td>\n",
       "      <td>3.708726</td>\n",
       "      <td>-5.719340</td>\n",
       "    </tr>\n",
       "    <tr>\n",
       "      <th>8</th>\n",
       "      <td>0.011257</td>\n",
       "      <td>0.009375</td>\n",
       "      <td>0.015625</td>\n",
       "      <td>-0.001882</td>\n",
       "      <td>0.004368</td>\n",
       "      <td>-16.718750</td>\n",
       "      <td>38.802083</td>\n",
       "    </tr>\n",
       "    <tr>\n",
       "      <th>3</th>\n",
       "      <td>0.006254</td>\n",
       "      <td>0.006250</td>\n",
       "      <td>0.003125</td>\n",
       "      <td>-0.000004</td>\n",
       "      <td>-0.003129</td>\n",
       "      <td>-0.062500</td>\n",
       "      <td>-50.031250</td>\n",
       "    </tr>\n",
       "  </tbody>\n",
       "</table>\n",
       "</div>"
      ],
      "text/plain": [
       "    overall  stratified  random_dist  diff(s-o)  diff(r-o)  diff(s-o)_pct  \\\n",
       "5  0.425891    0.425000     0.406250  -0.000891  -0.019641      -0.209251   \n",
       "6  0.398999    0.400000     0.412500   0.001001   0.013501       0.250784   \n",
       "7  0.124453    0.125000     0.131250   0.000547   0.006797       0.439698   \n",
       "4  0.033146    0.034375     0.031250   0.001229  -0.001896       3.708726   \n",
       "8  0.011257    0.009375     0.015625  -0.001882   0.004368     -16.718750   \n",
       "3  0.006254    0.006250     0.003125  -0.000004  -0.003129      -0.062500   \n",
       "\n",
       "   diff(r-o)_pct  \n",
       "5      -4.611784  \n",
       "6       3.383621  \n",
       "7       5.461683  \n",
       "4      -5.719340  \n",
       "8      38.802083  \n",
       "3     -50.031250  "
      ]
     },
     "execution_count": 18,
     "metadata": {},
     "output_type": "execute_result"
    }
   ],
   "source": [
    "dist_comparison"
   ]
  },
  {
   "cell_type": "markdown",
   "id": "9e8466ef",
   "metadata": {
    "papermill": {
     "duration": 0.01004,
     "end_time": "2022-09-26T06:21:08.076834",
     "exception": false,
     "start_time": "2022-09-26T06:21:08.066794",
     "status": "completed"
    },
    "tags": []
   },
   "source": [
    "> *Thus we can see that stratified sampling gives us test distribution closer to the overall distribution than the random sampling.*"
   ]
  },
  {
   "cell_type": "code",
   "execution_count": null,
   "id": "f4096489",
   "metadata": {
    "papermill": {
     "duration": 0.010105,
     "end_time": "2022-09-26T06:21:08.097373",
     "exception": false,
     "start_time": "2022-09-26T06:21:08.087268",
     "status": "completed"
    },
    "tags": []
   },
   "outputs": [],
   "source": []
  },
  {
   "cell_type": "code",
   "execution_count": null,
   "id": "81f11f0a",
   "metadata": {
    "papermill": {
     "duration": 0.010303,
     "end_time": "2022-09-26T06:21:08.118418",
     "exception": false,
     "start_time": "2022-09-26T06:21:08.108115",
     "status": "completed"
    },
    "tags": []
   },
   "outputs": [],
   "source": []
  }
 ],
 "metadata": {
  "kernelspec": {
   "display_name": "Python 3",
   "language": "python",
   "name": "python3"
  },
  "language_info": {
   "codemirror_mode": {
    "name": "ipython",
    "version": 3
   },
   "file_extension": ".py",
   "mimetype": "text/x-python",
   "name": "python",
   "nbconvert_exporter": "python",
   "pygments_lexer": "ipython3",
   "version": "3.7.12"
  },
  "papermill": {
   "default_parameters": {},
   "duration": 15.775705,
   "end_time": "2022-09-26T06:21:09.052589",
   "environment_variables": {},
   "exception": null,
   "input_path": "__notebook__.ipynb",
   "output_path": "__notebook__.ipynb",
   "parameters": {},
   "start_time": "2022-09-26T06:20:53.276884",
   "version": "2.3.4"
  }
 },
 "nbformat": 4,
 "nbformat_minor": 5
}
