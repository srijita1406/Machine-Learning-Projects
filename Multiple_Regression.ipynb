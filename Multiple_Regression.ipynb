{
  "nbformat": 4,
  "nbformat_minor": 0,
  "metadata": {
    "colab": {
      "provenance": [],
      "authorship_tag": "ABX9TyOp/ylqp/gm1KM+O1qvfy6h",
      "include_colab_link": true
    },
    "kernelspec": {
      "name": "python3",
      "display_name": "Python 3"
    },
    "language_info": {
      "name": "python"
    }
  },
  "cells": [
    {
      "cell_type": "markdown",
      "metadata": {
        "id": "view-in-github",
        "colab_type": "text"
      },
      "source": [
        "<a href=\"https://colab.research.google.com/github/srijita1406/Machine-Learning-Projects/blob/main/Multiple_Regression.ipynb\" target=\"_parent\"><img src=\"https://colab.research.google.com/assets/colab-badge.svg\" alt=\"Open In Colab\"/></a>"
      ]
    },
    {
      "cell_type": "code",
      "execution_count": null,
      "metadata": {
        "id": "7R54H67v70Xa"
      },
      "outputs": [],
      "source": [
        "import pandas as pd\n",
        "import numpy as np\n",
        "import matplotlib.pyplot as plt\n",
        "import seaborn as sns"
      ]
    },
    {
      "cell_type": "code",
      "source": [
        "df_train=pd.read_csv('train_LR.csv')"
      ],
      "metadata": {
        "id": "IUmXaYMB98R4"
      },
      "execution_count": null,
      "outputs": []
    },
    {
      "cell_type": "code",
      "source": [
        "df_test=pd.read_csv('test_LR.csv')"
      ],
      "metadata": {
        "id": "QCETxOvM-P46"
      },
      "execution_count": null,
      "outputs": []
    },
    {
      "cell_type": "code",
      "source": [
        "df_train.shape\n"
      ],
      "metadata": {
        "colab": {
          "base_uri": "https://localhost:8080/"
        },
        "id": "vv2NI1Hr-kNS",
        "outputId": "afb53666-441c-4737-e480-d8cf8127a294"
      },
      "execution_count": null,
      "outputs": [
        {
          "output_type": "execute_result",
          "data": {
            "text/plain": [
              "(12384, 8)"
            ]
          },
          "metadata": {},
          "execution_count": 10
        }
      ]
    },
    {
      "cell_type": "code",
      "source": [
        "df_test.shape"
      ],
      "metadata": {
        "colab": {
          "base_uri": "https://localhost:8080/"
        },
        "id": "B8Fm7Mdm-0i4",
        "outputId": "a963e379-5a29-49f8-9852-d48a3891bf6c"
      },
      "execution_count": null,
      "outputs": [
        {
          "output_type": "execute_result",
          "data": {
            "text/plain": [
              "(6100, 8)"
            ]
          },
          "metadata": {},
          "execution_count": 11
        }
      ]
    },
    {
      "cell_type": "code",
      "source": [
        "df_train.info()\n"
      ],
      "metadata": {
        "colab": {
          "base_uri": "https://localhost:8080/"
        },
        "id": "oZ5TtTjP_gc0",
        "outputId": "97d2be14-1e28-4814-f829-a73f356e0285"
      },
      "execution_count": null,
      "outputs": [
        {
          "output_type": "stream",
          "name": "stdout",
          "text": [
            "<class 'pandas.core.frame.DataFrame'>\n",
            "RangeIndex: 12384 entries, 0 to 12383\n",
            "Data columns (total 8 columns):\n",
            " #   Column           Non-Null Count  Dtype\n",
            "---  ------           --------------  -----\n",
            " 0   MaritalStatus    12384 non-null  int64\n",
            " 1   YearlyIncome     12384 non-null  int64\n",
            " 2   TotalChildren    12384 non-null  int64\n",
            " 3   ChildrenAtHome   12384 non-null  int64\n",
            " 4   HouseOwnerFlag   12384 non-null  int64\n",
            " 5   NumberCarsOwned  12384 non-null  int64\n",
            " 6   Age              12384 non-null  int64\n",
            " 7   MotorCycleBuyer  12384 non-null  int64\n",
            "dtypes: int64(8)\n",
            "memory usage: 774.1 KB\n"
          ]
        }
      ]
    },
    {
      "cell_type": "code",
      "source": [
        "num_zero = (df_train['MotorCycleBuyer'] == 0).sum()\n",
        "print(num_zero)\n"
      ],
      "metadata": {
        "colab": {
          "base_uri": "https://localhost:8080/"
        },
        "id": "dVwEykkY_sPY",
        "outputId": "2f2a7ebb-2264-492f-8dff-2caac54ed69a"
      },
      "execution_count": null,
      "outputs": [
        {
          "output_type": "stream",
          "name": "stdout",
          "text": [
            "6244\n"
          ]
        }
      ]
    },
    {
      "cell_type": "code",
      "source": [
        "(num_zero/df_train.shape[0])*100"
      ],
      "metadata": {
        "colab": {
          "base_uri": "https://localhost:8080/"
        },
        "id": "k3aZjYwiCRaS",
        "outputId": "176d7207-0cbd-40f9-e4d8-b25ae3904f19"
      },
      "execution_count": null,
      "outputs": [
        {
          "output_type": "execute_result",
          "data": {
            "text/plain": [
              "50.41989664082688"
            ]
          },
          "metadata": {},
          "execution_count": 14
        }
      ]
    },
    {
      "cell_type": "code",
      "source": [
        "num_one = (df_train['MotorCycleBuyer'] == 1).sum()\n",
        "print(num_one)"
      ],
      "metadata": {
        "colab": {
          "base_uri": "https://localhost:8080/"
        },
        "id": "jTU6V4qhDeke",
        "outputId": "8abc402c-8ea9-441a-9427-4e9af387942f"
      },
      "execution_count": null,
      "outputs": [
        {
          "output_type": "stream",
          "name": "stdout",
          "text": [
            "6140\n"
          ]
        }
      ]
    },
    {
      "cell_type": "code",
      "source": [
        "(num_one/df_train.shape[0])*100"
      ],
      "metadata": {
        "colab": {
          "base_uri": "https://localhost:8080/"
        },
        "id": "yexEwNsJDrQl",
        "outputId": "538eff48-b706-4307-e467-a08fa0296ebe"
      },
      "execution_count": null,
      "outputs": [
        {
          "output_type": "execute_result",
          "data": {
            "text/plain": [
              "49.58010335917313"
            ]
          },
          "metadata": {},
          "execution_count": 16
        }
      ]
    },
    {
      "cell_type": "code",
      "source": [
        "num_zero_test = (df_test['MotorCycleBuyer'] == 0).sum()\n",
        "print(num_zero_test)"
      ],
      "metadata": {
        "colab": {
          "base_uri": "https://localhost:8080/"
        },
        "id": "nytPnmF4D8Ip",
        "outputId": "d587f271-55ef-47db-854f-92fc70f9d2bf"
      },
      "execution_count": null,
      "outputs": [
        {
          "output_type": "stream",
          "name": "stdout",
          "text": [
            "3108\n"
          ]
        }
      ]
    },
    {
      "cell_type": "code",
      "source": [
        "(num_zero_test/df_test.shape[0])*100"
      ],
      "metadata": {
        "colab": {
          "base_uri": "https://localhost:8080/"
        },
        "id": "VpOr1YXfEFPo",
        "outputId": "09d36067-49e2-402a-be89-1f750a2020ee"
      },
      "execution_count": null,
      "outputs": [
        {
          "output_type": "execute_result",
          "data": {
            "text/plain": [
              "50.95081967213114"
            ]
          },
          "metadata": {},
          "execution_count": 18
        }
      ]
    },
    {
      "cell_type": "code",
      "source": [
        "num_one_test = (df_test['MotorCycleBuyer'] == 1).sum()\n",
        "print(num_one_test)"
      ],
      "metadata": {
        "colab": {
          "base_uri": "https://localhost:8080/"
        },
        "id": "DB4miopkENKZ",
        "outputId": "aa12b217-8f79-4981-c63b-30d6b6d6eb1d"
      },
      "execution_count": null,
      "outputs": [
        {
          "output_type": "stream",
          "name": "stdout",
          "text": [
            "2992\n"
          ]
        }
      ]
    },
    {
      "cell_type": "code",
      "source": [
        "(num_one_test/df_test.shape[0])*100"
      ],
      "metadata": {
        "colab": {
          "base_uri": "https://localhost:8080/"
        },
        "id": "O_myQQYiEVVr",
        "outputId": "54193ccf-6d71-49a7-b425-79bc7971249c"
      },
      "execution_count": null,
      "outputs": [
        {
          "output_type": "execute_result",
          "data": {
            "text/plain": [
              "49.049180327868854"
            ]
          },
          "metadata": {},
          "execution_count": 20
        }
      ]
    },
    {
      "cell_type": "code",
      "source": [
        "from sklearn.linear_model import LogisticRegression"
      ],
      "metadata": {
        "id": "lllx6R98JQ-y"
      },
      "execution_count": null,
      "outputs": []
    },
    {
      "cell_type": "code",
      "source": [
        "X_train=df_train.drop('MotorCycleBuyer',axis=1)\n",
        "y_train=df_train['MotorCycleBuyer']"
      ],
      "metadata": {
        "id": "OhvkeLARJqsZ"
      },
      "execution_count": null,
      "outputs": []
    },
    {
      "cell_type": "code",
      "source": [
        "from sklearn.linear_model import LogisticRegression\n",
        "\n",
        "# Create a LogisticRegression object\n",
        "logreg = LogisticRegression(random_state=17)\n",
        "\n",
        "# Fit the model to the training data\n",
        "logreg.fit(X_train, y_train)\n",
        "\n",
        "# Make predictions on the training data\n",
        "y_pred_train = logreg.predict(X_train)\n",
        "\n",
        "# Compare the predictions with the actual values\n",
        "accuracy = (y_pred_train == y_train).mean() * 100\n",
        "print(f'The accuracy of the model on the training data is {accuracy:.2f}%')\n"
      ],
      "metadata": {
        "colab": {
          "base_uri": "https://localhost:8080/"
        },
        "id": "NkBkOp1cNJsU",
        "outputId": "b3881812-04ea-48ff-ca1a-e40f64301668"
      },
      "execution_count": null,
      "outputs": [
        {
          "output_type": "stream",
          "name": "stdout",
          "text": [
            "The accuracy of the model on the training data is 51.31%\n"
          ]
        }
      ]
    },
    {
      "cell_type": "code",
      "source": [
        "from sklearn.metrics import precision_score\n",
        "\n",
        "# Calculate the precision of the model on the training data\n",
        "precision = precision_score(y_train, y_pred_train, pos_label=0)\n",
        "\n",
        "print(f'The precision of the model for identifying customers who will not purchase a motorcycle is {precision:.5f}')\n"
      ],
      "metadata": {
        "colab": {
          "base_uri": "https://localhost:8080/"
        },
        "id": "GBBGBQFokGg2",
        "outputId": "818583a0-4516-4ecd-c80d-58e2afcdfb7c"
      },
      "execution_count": null,
      "outputs": [
        {
          "output_type": "stream",
          "name": "stdout",
          "text": [
            "The precision of the model for identifying customers who will not purchase a motorcycle is 0.51436\n"
          ]
        }
      ]
    },
    {
      "cell_type": "code",
      "source": [
        "from sklearn.metrics import recall_score\n",
        "\n",
        "# Calculate the recall of the model on the training data\n",
        "recall = recall_score(y_train, y_pred_train, pos_label=1)\n",
        "\n",
        "print(f'The recall of the model for identifying customers who will purchase a motorcycle is {recall:.5f}')\n"
      ],
      "metadata": {
        "colab": {
          "base_uri": "https://localhost:8080/"
        },
        "id": "IoJGhHGqkiFp",
        "outputId": "776a138e-2950-4a2b-b3ee-239f5f8ac4fb"
      },
      "execution_count": null,
      "outputs": [
        {
          "output_type": "stream",
          "name": "stdout",
          "text": [
            "The recall of the model for identifying customers who will purchase a motorcycle is 0.41075\n"
          ]
        }
      ]
    },
    {
      "cell_type": "code",
      "source": [
        "from sklearn.metrics import classification_report\n",
        "print(classification_report(y_train,y_pred_train))"
      ],
      "metadata": {
        "colab": {
          "base_uri": "https://localhost:8080/"
        },
        "id": "I2yCAdxNkie6",
        "outputId": "13af7e69-ce1c-473d-9c05-4249902add27"
      },
      "execution_count": null,
      "outputs": [
        {
          "output_type": "stream",
          "name": "stdout",
          "text": [
            "              precision    recall  f1-score   support\n",
            "\n",
            "           0       0.51      0.61      0.56      6244\n",
            "           1       0.51      0.41      0.46      6140\n",
            "\n",
            "    accuracy                           0.51     12384\n",
            "   macro avg       0.51      0.51      0.51     12384\n",
            "weighted avg       0.51      0.51      0.51     12384\n",
            "\n"
          ]
        }
      ]
    },
    {
      "cell_type": "code",
      "source": [
        "X_test=df_test.drop('MotorCycleBuyer',axis=1)\n",
        "y_test=df_test['MotorCycleBuyer']"
      ],
      "metadata": {
        "id": "GxTkiw2gX3GE"
      },
      "execution_count": null,
      "outputs": []
    },
    {
      "cell_type": "code",
      "source": [
        "from sklearn.metrics import confusion_matrix\n",
        "\n",
        "# Make predictions on the test data\n",
        "y_pred_test = logreg.predict(X_test)\n",
        "\n",
        "# Generate the confusion matrix\n",
        "tn, fp, fn, tp = confusion_matrix(y_test, y_pred_test).ravel()\n",
        "\n",
        "# Identify the number of predictions that have a type 1 error\n",
        "type1_error = fp\n",
        "\n",
        "# Print the number of type 1 errors\n",
        "print(\"Number of predictions that have a type 1 error:\", type1_error)"
      ],
      "metadata": {
        "colab": {
          "base_uri": "https://localhost:8080/"
        },
        "id": "JaAJ-z9GXOu9",
        "outputId": "f7df7b31-6d71-4ca7-a297-399daa18eebc"
      },
      "execution_count": null,
      "outputs": [
        {
          "output_type": "stream",
          "name": "stdout",
          "text": [
            "Number of predictions that have a type 1 error: 923\n"
          ]
        }
      ]
    },
    {
      "cell_type": "code",
      "source": [
        "from sklearn.metrics import confusion_matrix\n",
        "\n",
        "# Make predictions on the test data\n",
        "y_pred_test = logreg.predict(X_test)\n",
        "\n",
        "# Generate the confusion matrix\n",
        "tn, fp, fn, tp = confusion_matrix(y_test, y_pred_test).ravel()\n",
        "\n",
        "# Identify the number of predictions that have a type 1 error\n",
        "type2_error = fn\n",
        "\n",
        "# Print the number of type 1 errors\n",
        "print(\"Number of predictions that have a type 2 error:\", type2_error)"
      ],
      "metadata": {
        "colab": {
          "base_uri": "https://localhost:8080/"
        },
        "id": "1eLgV2XlZod_",
        "outputId": "2111c097-c720-4a8e-8299-3ca3d0266ae7"
      },
      "execution_count": null,
      "outputs": [
        {
          "output_type": "stream",
          "name": "stdout",
          "text": [
            "Number of predictions that have a type 2 error: 2049\n"
          ]
        }
      ]
    },
    {
      "cell_type": "code",
      "source": [
        "# Calculate the values of TP, TN, FP, and FN\n",
        "tn, fp, fn, tp = confusion_matrix(y_test, y_pred_test).ravel()\n",
        "\n",
        "# Calculate the accuracy score\n",
        "accuracy = (tp + tn) / (tp + tn + fp + fn)\n",
        "\n",
        "# Print the accuracy score\n",
        "print(\"Accuracy score:\", accuracy)"
      ],
      "metadata": {
        "colab": {
          "base_uri": "https://localhost:8080/"
        },
        "id": "mmkDdlpxZoUM",
        "outputId": "aa838970-3613-4662-fbbb-64e6d04cf7ea"
      },
      "execution_count": null,
      "outputs": [
        {
          "output_type": "stream",
          "name": "stdout",
          "text": [
            "Accuracy score: 0.5127868852459017\n"
          ]
        }
      ]
    },
    {
      "cell_type": "code",
      "source": [
        "from sklearn.metrics import accuracy_score\n",
        "\n",
        "# Make predictions on the test data\n",
        "y_pred_test = logreg.predict(X_test)\n",
        "\n",
        "# Calculate the accuracy of the model\n",
        "accuracy = accuracy_score(y_test, y_pred_test)\n",
        "\n",
        "# Print the accuracy of the model\n",
        "print(\"Accuracy of the model on the test data:\", accuracy)\n"
      ],
      "metadata": {
        "colab": {
          "base_uri": "https://localhost:8080/"
        },
        "id": "SE_vZn5baoBy",
        "outputId": "4af8204f-8513-4527-cd28-b17b966eb626"
      },
      "execution_count": null,
      "outputs": [
        {
          "output_type": "stream",
          "name": "stdout",
          "text": [
            "Accuracy of the model on the test data: 0.5127868852459017\n"
          ]
        }
      ]
    },
    {
      "cell_type": "code",
      "source": [
        "from sklearn.metrics import precision_score\n",
        "\n",
        "# Make predictions on the test data\n",
        "y_pred_test = logreg.predict(X_test)\n",
        "\n",
        "# Calculate the precision of the model for negative class (customers who will not purchase the motorcycle)\n",
        "precision = precision_score(y_test, y_pred_test, pos_label=0)\n",
        "\n",
        "# Print the precision of the model\n",
        "print(\"Precision of the model for negative class:\", precision)"
      ],
      "metadata": {
        "colab": {
          "base_uri": "https://localhost:8080/"
        },
        "id": "ZJz8cs8RbL6-",
        "outputId": "847a0b51-8e16-4a92-8ab7-6297147c2538"
      },
      "execution_count": null,
      "outputs": [
        {
          "output_type": "stream",
          "name": "stdout",
          "text": [
            "Precision of the model for negative class: 0.5160604629192254\n"
          ]
        }
      ]
    },
    {
      "cell_type": "code",
      "source": [
        "from sklearn.metrics import classification_report\n",
        "print(classification_report(y_test,y_pred_test))"
      ],
      "metadata": {
        "colab": {
          "base_uri": "https://localhost:8080/"
        },
        "id": "h_nFUVlmbnxK",
        "outputId": "43123ee1-ccc1-4a8c-e247-3e7bdf0055e3"
      },
      "execution_count": null,
      "outputs": [
        {
          "output_type": "stream",
          "name": "stdout",
          "text": [
            "              precision    recall  f1-score   support\n",
            "\n",
            "           0       0.52      0.70      0.60      3108\n",
            "           1       0.51      0.32      0.39      2992\n",
            "\n",
            "    accuracy                           0.51      6100\n",
            "   macro avg       0.51      0.51      0.49      6100\n",
            "weighted avg       0.51      0.51      0.49      6100\n",
            "\n"
          ]
        }
      ]
    },
    {
      "cell_type": "code",
      "source": [
        "from sklearn.metrics import recall_score\n",
        "\n",
        "# Make predictions on the test data\n",
        "y_pred_test = logreg.predict(X_test)\n",
        "\n",
        "# Calculate the precision of the model for negative class (customers who will not purchase the motorcycle)\n",
        "recall = recall_score(y_test, y_pred_test, pos_label=1)\n",
        "\n",
        "# Print the precision of the model\n",
        "print(\"Recall of the model for positive class:\", recall)"
      ],
      "metadata": {
        "colab": {
          "base_uri": "https://localhost:8080/"
        },
        "id": "5gf82EZ3b8B7",
        "outputId": "f15f2c74-9721-4a4c-b043-57873f395547"
      },
      "execution_count": null,
      "outputs": [
        {
          "output_type": "stream",
          "name": "stdout",
          "text": [
            "Recall of the model for positive class: 0.31517379679144386\n"
          ]
        }
      ]
    }
  ]
}